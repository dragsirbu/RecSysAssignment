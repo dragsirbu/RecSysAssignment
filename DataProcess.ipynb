{
 "cells": [
  {
   "cell_type": "code",
   "execution_count": 84,
   "id": "initial_id",
   "metadata": {
    "collapsed": true,
    "ExecuteTime": {
     "end_time": "2024-12-20T12:56:24.308558Z",
     "start_time": "2024-12-20T12:56:24.052497Z"
    }
   },
   "outputs": [
    {
     "name": "stdout",
     "output_type": "stream",
     "text": [
      "The autoreload extension is already loaded. To reload it, use:\n",
      "  %reload_ext autoreload\n"
     ]
    }
   ],
   "source": [
    "%load_ext autoreload\n",
    "%autoreload 2"
   ]
  },
  {
   "cell_type": "code",
   "execution_count": 85,
   "outputs": [],
   "source": [
    "from data_process import *\n",
    "from tqdm.auto import tqdm\n",
    "from torch.utils.data import Dataset\n",
    "from functools import partial\n",
    "from itertools import chain\n",
    "import polars as pl\n",
    "import numpy as np\n",
    "import os\n",
    "from collections import defaultdict, Counter\n",
    "from typing import Tuple, Dict, List, Any, Callable, Optional, Union, Iterable\n",
    "from datetime import datetime\n",
    "from bisect import bisect\n",
    "import math\n",
    "import sentence_transformers as st\n",
    "\n",
    "base_dir = 'preprocess'\n",
    "if not os.path.exists(base_dir):\n",
    "    os.makedirs(base_dir)"
   ],
   "metadata": {
    "collapsed": false,
    "ExecuteTime": {
     "end_time": "2024-12-20T12:56:24.372198Z",
     "start_time": "2024-12-20T12:56:24.291564Z"
    }
   },
   "id": "e5146a6a73cb2902"
  },
  {
   "cell_type": "code",
   "execution_count": 86,
   "outputs": [],
   "source": [
    "# Processes the article DataFrame by embedding categorical features, encoding multi-value columns, \n",
    "# and generating lookup dictionaries for article IDs and publication dates.\n",
    "def preprocess_article(\n",
    "    article_df: pl.DataFrame, \n",
    "    min_reps: int = 100, \n",
    "    image_ids: Optional[Dict[int, int]] = None, \n",
    "    model_name: str = 'paraphrase-multilingual-mpnet-base-v2'\n",
    ") -> Tuple[pl.DataFrame, pl.DataFrame, pl.DataFrame, pl.DataFrame, Dict[int, int], Dict[int, Any]]:\n",
    "    # Initialize the SentenceTransformer model\n",
    "    model = st.SentenceTransformer(model_name)\n",
    "    ops = []\n",
    "\n",
    "    def encode_and_create_lookup(df: pl.DataFrame, column: str, embedding_model, schema: str):\n",
    "        \"\"\"Helper function to encode and create a lookup for a specific column.\"\"\"\n",
    "        unique_values = sorted(set(df[column].drop_nulls().to_list()))\n",
    "        mapping = {val: idx for idx, val in enumerate(unique_values)}\n",
    "        embeddings = embedding_model.encode(unique_values)\n",
    "        encoded_df = pl.DataFrame(data={column: unique_values, 'embeddings': embeddings})\n",
    "        return mapping, encoded_df\n",
    "\n",
    "    # 1. Encode and link category_str\n",
    "    categories_map, categories_df = encode_and_create_lookup(article_df, 'category_str', model, 'category_link')\n",
    "    ops.append(pl.col('category_str').replace(categories_map).cast(pl.Int64).alias('category_link'))\n",
    "\n",
    "    # 2. Encode and link ner_clusters\n",
    "    ner_values = sorted(set(val for sublist in article_df['ner_clusters'].drop_nulls() for val in sublist))\n",
    "    ner_map = {val: idx for idx, val in enumerate(ner_values)}\n",
    "    embeddings = model.encode(ner_values)\n",
    "    ner_df = pl.DataFrame(data={'ners': ner_values, 'embeddings': embeddings})\n",
    "    ops.append(pl.col('ner_clusters').map_elements(\n",
    "        lambda x: [ner_map[n] for n in x] if x is not None else [], \n",
    "        return_dtype=pl.List(pl.Int64), \n",
    "        skip_nulls=False\n",
    "    ).alias('ner_clusters_link'))\n",
    "\n",
    "    # 3. Encode and link topics\n",
    "    topics_map, topics_df = encode_and_create_lookup(article_df, 'topics', model, 'topics_link')\n",
    "    ops.append(pl.col('topics').map_elements(\n",
    "        lambda x: [topics_map[n] for n in x] if x is not None else [], \n",
    "        return_dtype=pl.List(pl.Int64), \n",
    "        skip_nulls=False\n",
    "    ).alias('topics_link'))\n",
    "\n",
    "    # Apply encoding operations to article_df\n",
    "    article_df = article_df.with_columns(ops)\n",
    "\n",
    "    # Clean and preprocess ner_clusters\n",
    "    article_df = article_df.with_columns(\n",
    "        pl.col('ner_clusters').map_elements(\n",
    "            lambda x: [n.lower()[:3] for n in x] if x is not None else [], \n",
    "            return_dtype=pl.List(pl.String), \n",
    "            skip_nulls=False\n",
    "        )\n",
    "    )\n",
    "\n",
    "    # Create mappings for article_id to published_time and article_id to index\n",
    "    articleid_date = dict(article_df.select('article_id', 'published_time').rows())\n",
    "    articleid_index = {article_id: idx for idx, article_id in enumerate(article_df['article_id'])}\n",
    "\n",
    "    # Process specific features in the DataFrame\n",
    "    ops = [\n",
    "        pl.col('premium').map_elements(lambda x: int(bool(x)), return_dtype=pl.Int64),\n",
    "        (pl.col('published_time').dt.weekday() - 1).alias('pub_weekday'),\n",
    "        pl.col('published_time').dt.hour().alias('pub_hour')\n",
    "    ]\n",
    "\n",
    "    # List of features to be processed\n",
    "    features = [\n",
    "        ('article_type', False, True),\n",
    "        ('subcategory', True, False),\n",
    "        ('sentiment_label', False, False),\n",
    "        ('category', False, True),\n",
    "        ('ner_clusters', True, False),\n",
    "        ('topics', True, False)\n",
    "    ]\n",
    "\n",
    "    for feature, is_list, allow_unknown in features:\n",
    "        map_feature, valid_values = get_map_for_feature(article_df, feature, min_reps, is_list_column=is_list, unknown=allow_unknown)\n",
    "        \n",
    "        if is_list:\n",
    "            valid_set = set(valid_values)\n",
    "            ops.append(pl.col(feature).map_elements(\n",
    "                lambda x: [map_feature(v) for v in x if v in valid_set] if x is not None else [], \n",
    "                return_dtype=pl.List(pl.Int64), \n",
    "                skip_nulls=False\n",
    "            ))\n",
    "        else:\n",
    "            ops.append(pl.col(feature).map_elements(map_feature, return_dtype=pl.Int64))\n",
    "        \n",
    "        print(f'Feature {feature} encoded. Number of values: {(len(valid_values) + 1) if allow_unknown else len(valid_values)}')\n",
    "\n",
    "    if image_ids is not None:\n",
    "        ops.append(pl.col('image_ids').map_elements(\n",
    "            lambda x: [image_ids[v] for v in x if v in image_ids] if x is not None else [], \n",
    "            return_dtype=pl.List(pl.Int64), \n",
    "            skip_nulls=False\n",
    "        ))\n",
    "\n",
    "    article_df = article_df.with_columns(ops)\n",
    "\n",
    "    return article_df, categories_df, ner_df, topics_df, articleid_index, articleid_date"
   ],
   "metadata": {
    "collapsed": false,
    "ExecuteTime": {
     "end_time": "2024-12-20T12:56:24.476272Z",
     "start_time": "2024-12-20T12:56:24.385549Z"
    }
   },
   "id": "8a99dd0569d4f843"
  },
  {
   "cell_type": "code",
   "execution_count": 88,
   "outputs": [],
   "source": [
    "# Computes the delta time between article publication and user impression for each article in view.\n",
    "# Also, computes the total number of articles in view for each impression.\n",
    "def compute_behaviors_dates(behavior_df: pl.DataFrame, article_publish: Dict[int, datetime]) -> pl.DataFrame:\n",
    "    # Calculate the time delta for each article in view relative to its publication time\n",
    "    behavior_df = behavior_df.with_columns([\n",
    "        pl.struct(['impression_time', 'article_ids_inview']).map_elements(\n",
    "            lambda x: [\n",
    "                int((x['impression_time'] - article_publish[a][0]).total_seconds()) \n",
    "                for a in x['article_ids_inview']\n",
    "            ] if x['article_ids_inview'] else [],\n",
    "            return_dtype=pl.List(pl.Int64)\n",
    "        ).alias('article_delta_time'),\n",
    "        \n",
    "        # Count the number of articles in view\n",
    "        pl.col('article_ids_inview').map_elements(\n",
    "            lambda x: len(x) if x else 0, \n",
    "            return_dtype=pl.Int64\n",
    "        ).alias('number_articles')\n",
    "    ])\n",
    "    \n",
    "    return behavior_df"
   ],
   "metadata": {
    "collapsed": false,
    "ExecuteTime": {
     "end_time": "2024-12-20T12:56:24.642534Z",
     "start_time": "2024-12-20T12:56:24.576180Z"
    }
   },
   "id": "8200f72adf6ad371"
  },
  {
   "cell_type": "code",
   "execution_count": 89,
   "outputs": [],
   "source": [
    "def compute_history_dates(history_df: pl.DataFrame, article_publish: Dict[int, datetime], sorted_history: bool=False) -> pl.DataFrame:\n",
    "    if sorted_history:\n",
    "        history_df = history_df.with_columns(order=pl.col('impression_time_fixed').map_elements(ids_sort, return_dtype=pl.List(pl.Int64)))\n",
    "        history_df = history_df.with_columns(\n",
    "                        impression_time_fixed=pl.struct('impression_time_fixed', 'order').\n",
    "                        map_elements(lambda x: sort_ids(x['impression_time_fixed'], x['order']), \n",
    "                                    return_dtype=pl.List(pl.Datetime)),\n",
    "                        scroll_percentage_fixed=pl.struct('scroll_percentage_fixed', 'order').\n",
    "                        map_elements(lambda x: sort_ids(x['scroll_percentage_fixed'], x['order']), \n",
    "                                    return_dtype=pl.List(pl.Float64)),\n",
    "                        article_id_fixed=pl.struct('article_id_fixed', 'order').\n",
    "                        map_elements(lambda x: sort_ids(x['article_id_fixed'], x['order']), \n",
    "                                    return_dtype=pl.List(pl.Int64)),\n",
    "                        read_time_fixed=pl.struct('read_time_fixed', 'order').\n",
    "                        map_elements(lambda x: sort_ids(x['read_time_fixed'], x['order']), \n",
    "                                    return_dtype=pl.List(pl.Float64))). \\\n",
    "                        drop('order')\n",
    "    history_df = history_df.with_columns(\n",
    "        impression_weekday=pl.col('impression_time_fixed'). \n",
    "            map_elements(lambda x: [d.weekday() for d in x], return_dtype=pl.List(pl.Int64)),\n",
    "        impression_hour=pl.col('impression_time_fixed'). \n",
    "            map_elements(lambda x: [d.hour for d in x], return_dtype=pl.List(pl.Int64)),\n",
    "        article_delta_time=pl.struct(('impression_time_fixed', 'article_id_fixed')). \n",
    "            map_elements(lambda x:[ int((d - article_publish[a][0]).total_seconds()) for d, a in zip(x['impression_time_fixed'], x['article_id_fixed'])], \n",
    "                         return_dtype=pl.List(pl.Int64)),\n",
    "        number_articles=pl.col('article_id_fixed').map_elements(len, return_dtype=pl.Int64)\n",
    "    )\n",
    "    return history_df"
   ],
   "metadata": {
    "collapsed": false,
    "ExecuteTime": {
     "end_time": "2024-12-20T12:56:24.708108Z",
     "start_time": "2024-12-20T12:56:24.648067Z"
    }
   },
   "id": "b8fadb991785f466"
  },
  {
   "cell_type": "code",
   "execution_count": 90,
   "outputs": [],
   "source": [
    "# Preprocesses the behavior and history DataFrames by computing time-based features, \n",
    "# encoding categorical features, and applying quantile-based binning.\n",
    "def preprocess(\n",
    "    behavior: pl.DataFrame, \n",
    "    history: pl.DataFrame, \n",
    "    article_publish: Dict[int, datetime], \n",
    "    article_index: Dict[int, int], \n",
    "    sorted_history: bool = False, \n",
    "    time_quartiles: Optional[List[int]] = None\n",
    ") -> Tuple[pl.DataFrame, pl.DataFrame, List[int]]:\n",
    "    # Step 1: Compute time-related features for history and behavior\n",
    "    print('Computing history & behavior dates')\n",
    "    history = compute_history_dates(history, article_publish, sorted_history)\n",
    "    behavior = compute_behaviors_dates(behavior, article_publish)\n",
    "\n",
    "    # Step 2: Compute user ID index mapping and time quantile limits\n",
    "    print('Computing history user_id mapping and time percentiles')\n",
    "    historyid_index = {user_id: i for i, user_id in enumerate(history['user_id'])}\n",
    "\n",
    "    if time_quartiles is None:\n",
    "        # Replace None with an empty list\n",
    "        time_quartiles = quantile_limits(chain(*[x for x in history['article_delta_time'].to_list() if x is not None]))\n",
    "\n",
    "    # Step 3: Process the behavior DataFrame\n",
    "    print('Preprocessing behavior')\n",
    "    behavior_ops = []\n",
    "\n",
    "    if 'next_scroll_percentage' in behavior.columns:\n",
    "        behavior_ops.append(\n",
    "            pl.col('next_scroll_percentage').map_elements(\n",
    "                lambda x: x / 100 if x is not None else 0.0, \n",
    "                return_dtype=pl.Float64, \n",
    "                skip_nulls=False\n",
    "            )\n",
    "        )\n",
    "        behavior_ops.append(\n",
    "            pl.struct(['article_ids_inview', 'article_ids_clicked']).map_elements(\n",
    "                lambda x: [x['article_ids_inview'].index(v) for v in x['article_ids_clicked']],\n",
    "                return_dtype=pl.List(pl.Int64)\n",
    "            ).alias('article_ids_clicked')\n",
    "        )\n",
    "\n",
    "    categorical_mappings = [\n",
    "        ('user_id', historyid_index, None),\n",
    "        ('is_sso_user', None, binary_encoding),\n",
    "        ('gender', None, build_dict_encoding([0, 1, 2, None])),\n",
    "        ('postcode', None, build_dict_encoding([0, 1, 2, 3, 4, None])),\n",
    "        ('age', None, build_dict_encoding([0, 10, 20, 30, 40, 50, 60, 70, 80, 90, 100, None])),\n",
    "        ('is_subscriber', None, binary_encoding),\n",
    "        ('device_type', None, build_dict_encoding([0, 1, 2, 3])),\n",
    "    ]\n",
    "\n",
    "    for column, mapping, encoding_function in categorical_mappings:\n",
    "        if mapping:\n",
    "            behavior_ops.append(pl.col(column).replace(mapping))\n",
    "        elif encoding_function:\n",
    "            behavior_ops.append(pl.col(column).map_elements(encoding_function, return_dtype=pl.Int8))\n",
    "\n",
    "    behavior_ops.extend([\n",
    "        pl.col('article_delta_time').map_elements(\n",
    "            lambda x: [time_encoding(v, time_quartiles) for v in x], \n",
    "            return_dtype=pl.List(pl.Int64)\n",
    "        ),\n",
    "        pl.col('article_ids_inview').map_elements(\n",
    "            lambda x: [article_index[v] for v in x], \n",
    "            return_dtype=pl.List(pl.Int64)\n",
    "        ),\n",
    "        pl.col('impression_time').dt.hour().alias('impression_hour'),\n",
    "        (pl.col('impression_time').dt.weekday() - 1).alias('impression_weekday')\n",
    "    ])\n",
    "\n",
    "    behavior = behavior.with_columns(behavior_ops)\n",
    "\n",
    "    # Step 4: Process the history DataFrame\n",
    "    print('Preprocessing history')\n",
    "    history_ops = [\n",
    "        pl.col('scroll_percentage_fixed').map_elements(\n",
    "            lambda l: [x / 100 if x is not None else 0.0 for x in l], \n",
    "            return_dtype=pl.List(pl.Float64)\n",
    "        ),\n",
    "        pl.col('article_delta_time').map_elements(\n",
    "            lambda x: [time_encoding(v, time_quartiles) for v in x], \n",
    "            return_dtype=pl.List(pl.Int64)\n",
    "        ),\n",
    "        pl.col('article_id_fixed').map_elements(\n",
    "            lambda x: [article_index[v] for v in x], \n",
    "            return_dtype=pl.List(pl.Int64)\n",
    "        )\n",
    "    ]\n",
    "\n",
    "    history = history.with_columns(history_ops)\n",
    "\n",
    "    return behavior, history, time_quartiles"
   ],
   "metadata": {
    "collapsed": false,
    "ExecuteTime": {
     "end_time": "2024-12-20T12:56:24.780660Z",
     "start_time": "2024-12-20T12:56:24.718891Z"
    }
   },
   "id": "caf58b8bf9fdb88d"
  },
  {
   "cell_type": "code",
   "execution_count": 91,
   "outputs": [],
   "source": [
    "ds = load_parquets('datasets/ebnerd_demo.zip')\n",
    "behavior = ds['train/behaviors']\n",
    "history = ds['train/history']\n",
    "article = ds['articles']\n",
    "\n",
    "del ds"
   ],
   "metadata": {
    "collapsed": false,
    "ExecuteTime": {
     "end_time": "2024-12-20T12:56:25.051470Z",
     "start_time": "2024-12-20T12:56:24.782172Z"
    }
   },
   "id": "90872bbf74a7cfe9"
  },
  {
   "cell_type": "code",
   "execution_count": 92,
   "outputs": [
    {
     "name": "stderr",
     "output_type": "stream",
     "text": [
      "/Users/dragos/anaconda3/envs/RecSysAssignment/lib/python3.11/site-packages/huggingface_hub/file_download.py:1150: FutureWarning: `resume_download` is deprecated and will be removed in version 1.0.0. Downloads always resume when possible. If you want to force a new download, use `force_download=True`.\n",
      "  warnings.warn(\n"
     ]
    },
    {
     "name": "stdout",
     "output_type": "stream",
     "text": [
      "Feature article_type encoded. Number of values: 2\n",
      "Feature subcategory encoded. Number of values: 2\n",
      "Feature sentiment_label encoded. Number of values: 3\n",
      "Feature category encoded. Number of values: 5\n",
      "Feature ner_clusters encoded. Number of values: 3\n",
      "Feature topics encoded. Number of values: 13\n"
     ]
    }
   ],
   "source": [
    "article, categories_embs, ner_embs, topics_embs, articleid_indexes, article_publish_date = preprocess_article(article, 1000)"
   ],
   "metadata": {
    "collapsed": false,
    "ExecuteTime": {
     "end_time": "2024-12-20T12:57:20.405435Z",
     "start_time": "2024-12-20T12:56:25.050494Z"
    }
   },
   "id": "3814f3174fbaba77"
  },
  {
   "cell_type": "code",
   "execution_count": 93,
   "outputs": [
    {
     "name": "stdout",
     "output_type": "stream",
     "text": [
      "Computing history & behavior dates\n",
      "Computing history user_id mapping and time percentiles\n",
      "Preprocessing behavior\n",
      "Preprocessing history\n"
     ]
    }
   ],
   "source": [
    "behavior, history, time_quartiles = preprocess(behavior, history, article_publish_date, articleid_indexes)"
   ],
   "metadata": {
    "collapsed": false,
    "ExecuteTime": {
     "end_time": "2024-12-20T12:57:22.852542Z",
     "start_time": "2024-12-20T12:57:20.406693Z"
    }
   },
   "id": "3eb7d3d9c4844f00"
  },
  {
   "cell_type": "code",
   "execution_count": 94,
   "outputs": [
    {
     "data": {
      "text/plain": "shape: (15, 21)\n┌───────────┬───────────┬───────────┬───────────┬───┬───────────┬───────────┬───────────┬──────────┐\n│ impressio ┆ article_i ┆ impressio ┆ read_time ┆ … ┆ article_d ┆ number_ar ┆ impressio ┆ impressi │\n│ n_id      ┆ d         ┆ n_time    ┆ ---       ┆   ┆ elta_time ┆ ticles    ┆ n_hour    ┆ on_weekd │\n│ ---       ┆ ---       ┆ ---       ┆ f32       ┆   ┆ ---       ┆ ---       ┆ ---       ┆ ay       │\n│ u32       ┆ i32       ┆ datetime[ ┆           ┆   ┆ list[i64] ┆ i64       ┆ i8        ┆ ---      │\n│           ┆           ┆ μs]       ┆           ┆   ┆           ┆           ┆           ┆ i8       │\n╞═══════════╪═══════════╪═══════════╪═══════════╪═══╪═══════════╪═══════════╪═══════════╪══════════╡\n│ 48401     ┆ null      ┆ 2023-05-2 ┆ 21.0      ┆ … ┆ [56, 14,  ┆ null      ┆ 21        ┆ 6        │\n│           ┆           ┆ 1         ┆           ┆   ┆ … 55]     ┆           ┆           ┆          │\n│           ┆           ┆ 21:06:50  ┆           ┆   ┆           ┆           ┆           ┆          │\n│ 152513    ┆ 9778745   ┆ 2023-05-2 ┆ 30.0      ┆ … ┆ [49, 3, … ┆ null      ┆ 7         ┆ 2        │\n│           ┆           ┆ 4         ┆           ┆   ┆ 64]       ┆           ┆           ┆          │\n│           ┆           ┆ 07:31:26  ┆           ┆   ┆           ┆           ┆           ┆          │\n│ 155390    ┆ null      ┆ 2023-05-2 ┆ 45.0      ┆ … ┆ [72, 76,  ┆ null      ┆ 7         ┆ 2        │\n│           ┆           ┆ 4         ┆           ┆   ┆ … 76]     ┆           ┆           ┆          │\n│           ┆           ┆ 07:30:33  ┆           ┆   ┆           ┆           ┆           ┆          │\n│ 214679    ┆ null      ┆ 2023-05-2 ┆ 33.0      ┆ … ┆ [58, 13,  ┆ null      ┆ 5         ┆ 1        │\n│           ┆           ┆ 3         ┆           ┆   ┆ … 19]     ┆           ┆           ┆          │\n│           ┆           ┆ 05:25:40  ┆           ┆   ┆           ┆           ┆           ┆          │\n│ 214681    ┆ null      ┆ 2023-05-2 ┆ 21.0      ┆ … ┆ [95, 24,  ┆ null      ┆ 5         ┆ 1        │\n│           ┆           ┆ 3         ┆           ┆   ┆ … 85]     ┆           ┆           ┆          │\n│           ┆           ┆ 05:31:54  ┆           ┆   ┆           ┆           ┆           ┆          │\n│ …         ┆ …         ┆ …         ┆ …         ┆ … ┆ …         ┆ …         ┆ …         ┆ …        │\n│ 371838    ┆ null      ┆ 2023-05-2 ┆ 108.0     ┆ … ┆ [76, 60,  ┆ null      ┆ 14        ┆ 2        │\n│           ┆           ┆ 4         ┆           ┆   ┆ … 23]     ┆           ┆           ┆          │\n│           ┆           ┆ 14:23:00  ┆           ┆   ┆           ┆           ┆           ┆          │\n│ 374777    ┆ 9779289   ┆ 2023-05-2 ┆ 12.0      ┆ … ┆ [17, 25,  ┆ null      ┆ 14        ┆ 2        │\n│           ┆           ┆ 4         ┆           ┆   ┆ … 96]     ┆           ┆           ┆          │\n│           ┆           ┆ 14:15:08  ┆           ┆   ┆           ┆           ┆           ┆          │\n│ 386918    ┆ null      ┆ 2023-05-2 ┆ 26.0      ┆ … ┆ [48, 10,  ┆ null      ┆ 20        ┆ 5        │\n│           ┆           ┆ 0         ┆           ┆   ┆ … 28]     ┆           ┆           ┆          │\n│           ┆           ┆ 20:41:22  ┆           ┆   ┆           ┆           ┆           ┆          │\n│ 780811    ┆ null      ┆ 2023-05-2 ┆ 28.0      ┆ … ┆ [15, 18,  ┆ null      ┆ 18        ┆ 6        │\n│           ┆           ┆ 1         ┆           ┆   ┆ … 4]      ┆           ┆           ┆          │\n│           ┆           ┆ 18:40:56  ┆           ┆   ┆           ┆           ┆           ┆          │\n│ 785408    ┆ null      ┆ 2023-05-2 ┆ 5.0       ┆ … ┆ [4, 1, …  ┆ null      ┆ 18        ┆ 6        │\n│           ┆           ┆ 1         ┆           ┆   ┆ 33]       ┆           ┆           ┆          │\n│           ┆           ┆ 18:24:43  ┆           ┆   ┆           ┆           ┆           ┆          │\n└───────────┴───────────┴───────────┴───────────┴───┴───────────┴───────────┴───────────┴──────────┘",
      "text/html": "<div><style>\n.dataframe > thead > tr,\n.dataframe > tbody > tr {\n  text-align: right;\n  white-space: pre-wrap;\n}\n</style>\n<small>shape: (15, 21)</small><table border=\"1\" class=\"dataframe\"><thead><tr><th>impression_id</th><th>article_id</th><th>impression_time</th><th>read_time</th><th>scroll_percentage</th><th>device_type</th><th>article_ids_inview</th><th>article_ids_clicked</th><th>user_id</th><th>is_sso_user</th><th>gender</th><th>postcode</th><th>age</th><th>is_subscriber</th><th>session_id</th><th>next_read_time</th><th>next_scroll_percentage</th><th>article_delta_time</th><th>number_articles</th><th>impression_hour</th><th>impression_weekday</th></tr><tr><td>u32</td><td>i32</td><td>datetime[μs]</td><td>f32</td><td>f32</td><td>i8</td><td>list[i64]</td><td>list[i64]</td><td>u32</td><td>i8</td><td>i8</td><td>i8</td><td>i8</td><td>i8</td><td>u32</td><td>f32</td><td>f64</td><td>list[i64]</td><td>i64</td><td>i8</td><td>i8</td></tr></thead><tbody><tr><td>48401</td><td>null</td><td>2023-05-21 21:06:50</td><td>21.0</td><td>null</td><td>2</td><td>[9657, 9360, … 8514]</td><td>[10]</td><td>27</td><td>0</td><td>null</td><td>null</td><td>null</td><td>0</td><td>21</td><td>16.0</td><td>0.27</td><td>[56, 14, … 55]</td><td>null</td><td>21</td><td>6</td></tr><tr><td>152513</td><td>9778745</td><td>2023-05-24 07:31:26</td><td>30.0</td><td>100.0</td><td>1</td><td>[10004, 10014, … 9918]</td><td>[4]</td><td>741</td><td>0</td><td>null</td><td>null</td><td>null</td><td>0</td><td>298</td><td>2.0</td><td>0.48</td><td>[49, 3, … 64]</td><td>null</td><td>7</td><td>2</td></tr><tr><td>155390</td><td>null</td><td>2023-05-24 07:30:33</td><td>45.0</td><td>null</td><td>1</td><td>[9987, 9945, … 9994]</td><td>[1]</td><td>8</td><td>0</td><td>null</td><td>null</td><td>null</td><td>0</td><td>401</td><td>215.0</td><td>1.0</td><td>[72, 76, … 76]</td><td>null</td><td>7</td><td>2</td></tr><tr><td>214679</td><td>null</td><td>2023-05-23 05:25:40</td><td>33.0</td><td>null</td><td>2</td><td>[9861, 9837, … 9864]</td><td>[2]</td><td>574</td><td>0</td><td>null</td><td>null</td><td>null</td><td>0</td><td>1357</td><td>40.0</td><td>0.47</td><td>[58, 13, … 19]</td><td>null</td><td>5</td><td>1</td></tr><tr><td>214681</td><td>null</td><td>2023-05-23 05:31:54</td><td>21.0</td><td>null</td><td>2</td><td>[9706, 9864, … 9853]</td><td>[5]</td><td>574</td><td>0</td><td>null</td><td>null</td><td>null</td><td>0</td><td>1358</td><td>5.0</td><td>0.49</td><td>[95, 24, … 85]</td><td>null</td><td>5</td><td>1</td></tr><tr><td>&hellip;</td><td>&hellip;</td><td>&hellip;</td><td>&hellip;</td><td>&hellip;</td><td>&hellip;</td><td>&hellip;</td><td>&hellip;</td><td>&hellip;</td><td>&hellip;</td><td>&hellip;</td><td>&hellip;</td><td>&hellip;</td><td>&hellip;</td><td>&hellip;</td><td>&hellip;</td><td>&hellip;</td><td>&hellip;</td><td>&hellip;</td><td>&hellip;</td><td>&hellip;</td></tr><tr><td>371838</td><td>null</td><td>2023-05-24 14:23:00</td><td>108.0</td><td>null</td><td>2</td><td>[10033, 10062, … 10072]</td><td>[11]</td><td>79</td><td>0</td><td>null</td><td>null</td><td>null</td><td>0</td><td>2015</td><td>1270.0</td><td>0.29</td><td>[76, 60, … 23]</td><td>null</td><td>14</td><td>2</td></tr><tr><td>374777</td><td>9779289</td><td>2023-05-24 14:15:08</td><td>12.0</td><td>100.0</td><td>2</td><td>[10072, 10074, … 9744]</td><td>[2]</td><td>1123</td><td>0</td><td>null</td><td>null</td><td>null</td><td>0</td><td>2470</td><td>11.0</td><td>0.0</td><td>[17, 25, … 96]</td><td>null</td><td>14</td><td>2</td></tr><tr><td>386918</td><td>null</td><td>2023-05-20 20:41:22</td><td>26.0</td><td>null</td><td>2</td><td>[9586, 9629, … 9631]</td><td>[0]</td><td>1511</td><td>0</td><td>null</td><td>null</td><td>null</td><td>0</td><td>2512</td><td>128.0</td><td>1.0</td><td>[48, 10, … 28]</td><td>null</td><td>20</td><td>5</td></tr><tr><td>780811</td><td>null</td><td>2023-05-21 18:40:56</td><td>28.0</td><td>null</td><td>2</td><td>[9708, 9703, … 9667]</td><td>[6]</td><td>312</td><td>0</td><td>null</td><td>null</td><td>null</td><td>0</td><td>3639</td><td>26.0</td><td>1.0</td><td>[15, 18, … 4]</td><td>null</td><td>18</td><td>6</td></tr><tr><td>785408</td><td>null</td><td>2023-05-21 18:24:43</td><td>5.0</td><td>null</td><td>2</td><td>[9703, 9708, … 9704]</td><td>[0]</td><td>89</td><td>0</td><td>null</td><td>null</td><td>null</td><td>0</td><td>3859</td><td>25.0</td><td>1.0</td><td>[4, 1, … 33]</td><td>null</td><td>18</td><td>6</td></tr></tbody></table></div>"
     },
     "execution_count": 94,
     "metadata": {},
     "output_type": "execute_result"
    }
   ],
   "source": [
    "behavior.head(15)"
   ],
   "metadata": {
    "collapsed": false,
    "ExecuteTime": {
     "end_time": "2024-12-20T12:57:22.907339Z",
     "start_time": "2024-12-20T12:57:22.851151Z"
    }
   },
   "id": "bd6e726b64f1c671"
  },
  {
   "cell_type": "code",
   "execution_count": 95,
   "outputs": [
    {
     "data": {
      "text/plain": "shape: (15, 9)\n┌─────────┬────────────┬───────────┬───────────┬───┬───────────┬───────────┬───────────┬───────────┐\n│ user_id ┆ impression ┆ scroll_pe ┆ article_i ┆ … ┆ impressio ┆ impressio ┆ article_d ┆ number_ar │\n│ ---     ┆ _time_fixe ┆ rcentage_ ┆ d_fixed   ┆   ┆ n_weekday ┆ n_hour    ┆ elta_time ┆ ticles    │\n│ u32     ┆ d          ┆ fixed     ┆ ---       ┆   ┆ ---       ┆ ---       ┆ ---       ┆ ---       │\n│         ┆ ---        ┆ ---       ┆ list[i64] ┆   ┆ list[i64] ┆ list[i64] ┆ list[i64] ┆ i64       │\n│         ┆ list[datet ┆ list[f64] ┆           ┆   ┆           ┆           ┆           ┆           │\n│         ┆ ime[μs]]   ┆           ┆           ┆   ┆           ┆           ┆           ┆           │\n╞═════════╪════════════╪═══════════╪═══════════╪═══╪═══════════╪═══════════╪═══════════╪═══════════╡\n│ 13538   ┆ [2023-04-2 ┆ [1.0,     ┆ [6391,    ┆ … ┆ [3, 3, …  ┆ [10, 10,  ┆ [4, 31, … ┆ 582       │\n│         ┆ 7          ┆ 0.35, …   ┆ 6382, …   ┆   ┆ 2]        ┆ … 20]     ┆ 37]       ┆           │\n│         ┆ 10:17:43,  ┆ 1.0]      ┆ 9222]     ┆   ┆           ┆           ┆           ┆           │\n│         ┆ 2023-04-…  ┆           ┆           ┆   ┆           ┆           ┆           ┆           │\n│ 58608   ┆ [2023-04-2 ┆ [0.37,    ┆ [6470,    ┆ … ┆ [3, 3, …  ┆ [18, 18,  ┆ [7, 57, … ┆ 151       │\n│         ┆ 7          ┆ 0.61, …   ┆ 6444, …   ┆   ┆ 2]        ┆ … 19]     ┆ 79]       ┆           │\n│         ┆ 18:48:09,  ┆ 0.0]      ┆ 9311]     ┆   ┆           ┆           ┆           ┆           │\n│         ┆ 2023-04-…  ┆           ┆           ┆   ┆           ┆           ┆           ┆           │\n│ 95507   ┆ [2023-04-2 ┆ [0.6,     ┆ [6427,    ┆ … ┆ [3, 3, …  ┆ [15, 15,  ┆ [42, 37,  ┆ 370       │\n│         ┆ 7          ┆ 1.0, …    ┆ 6387, …   ┆   ┆ 2]        ┆ … 14]     ┆ … 70]     ┆           │\n│         ┆ 15:20:28,  ┆ 0.0]      ┆ 9234]     ┆   ┆           ┆           ┆           ┆           │\n│         ┆ 2023-04-…  ┆           ┆           ┆   ┆           ┆           ┆           ┆           │\n│ 106588  ┆ [2023-04-2 ┆ [0.24,    ┆ [6357,    ┆ … ┆ [3, 3, …  ┆ [8, 8, …  ┆ [39, 47,  ┆ 149       │\n│         ┆ 7          ┆ 0.57, …   ┆ 6354, …   ┆   ┆ 1]        ┆ 5]        ┆ … 95]     ┆           │\n│         ┆ 08:29:09,  ┆ 1.0]      ┆ 7318]     ┆   ┆           ┆           ┆           ┆           │\n│         ┆ 2023-04-…  ┆           ┆           ┆   ┆           ┆           ┆           ┆           │\n│ 617963  ┆ [2023-04-2 ┆ [1.0,     ┆ [6427,    ┆ … ┆ [3, 3, …  ┆ [14, 14,  ┆ [19, 1, … ┆ 277       │\n│         ┆ 7          ┆ 1.0, …    ┆ 6434, …   ┆   ┆ 3]        ┆ … 2]      ┆ 78]       ┆           │\n│         ┆ 14:42:25,  ┆ 0.9]      ┆ 9349]     ┆   ┆           ┆           ┆           ┆           │\n│         ┆ 2023-04-…  ┆           ┆           ┆   ┆           ┆           ┆           ┆           │\n│ …       ┆ …          ┆ …         ┆ …         ┆ … ┆ …         ┆ …         ┆ …         ┆ …         │\n│ 171559  ┆ [2023-04-2 ┆ [0.93,    ┆ [6563,    ┆ … ┆ [4, 4, …  ┆ [9, 9, …  ┆ [4, 75, … ┆ 127       │\n│         ┆ 8          ┆ 1.0, …    ┆ 6482, …   ┆   ┆ 2]        ┆ 22]       ┆ 81]       ┆           │\n│         ┆ 09:33:17,  ┆ 1.0]      ┆ 9256]     ┆   ┆           ┆           ┆           ┆           │\n│         ┆ 2023-04-…  ┆           ┆           ┆   ┆           ┆           ┆           ┆           │\n│ 189524  ┆ [2023-04-2 ┆ [0.57,    ┆ [6355,    ┆ … ┆ [3, 3, …  ┆ [7, 7, …  ┆ [11, 72,  ┆ 270       │\n│         ┆ 7          ┆ 0.33, …   ┆ 6326, …   ┆   ┆ 3]        ┆ 5]        ┆ … 0]      ┆           │\n│         ┆ 07:12:05,  ┆ 1.0]      ┆ 9355]     ┆   ┆           ┆           ┆           ┆           │\n│         ┆ 2023-04-…  ┆           ┆           ┆   ┆           ┆           ┆           ┆           │\n│ 373598  ┆ [2023-04-2 ┆ [0.14,    ┆ [6256,    ┆ … ┆ [3, 3, …  ┆ [22, 23,  ┆ [38, 83,  ┆ 196       │\n│         ┆ 7          ┆ 1.0, …    ┆ 6420, …   ┆   ┆ 3]        ┆ … 2]      ┆ … 90]     ┆           │\n│         ┆ 22:39:22,  ┆ 0.7]      ┆ 9282]     ┆   ┆           ┆           ┆           ┆           │\n│         ┆ 2023-04-…  ┆           ┆           ┆   ┆           ┆           ┆           ┆           │\n│ 383378  ┆ [2023-04-2 ┆ [0.0,     ┆ [6584,    ┆ … ┆ [4, 4, …  ┆ [10, 11,  ┆ [18, 2, … ┆ 750       │\n│         ┆ 8          ┆ 0.99, …   ┆ 6555, …   ┆   ┆ 2]        ┆ … 21]     ┆ 12]       ┆           │\n│         ┆ 10:59:24,  ┆ 1.0]      ┆ 9349]     ┆   ┆           ┆           ┆           ┆           │\n│         ┆ 2023-04-…  ┆           ┆           ┆   ┆           ┆           ┆           ┆           │\n│ 411733  ┆ [2023-04-2 ┆ [0.29,    ┆ [6283,    ┆ … ┆ [3, 3, …  ┆ [8, 9, …  ┆ [27, 40,  ┆ 302       │\n│         ┆ 7          ┆ 0.26, …   ┆ 6203, …   ┆   ┆ 3]        ┆ 1]        ┆ … 81]     ┆           │\n│         ┆ 08:45:44,  ┆ 0.0]      ┆ 9222]     ┆   ┆           ┆           ┆           ┆           │\n│         ┆ 2023-04-…  ┆           ┆           ┆   ┆           ┆           ┆           ┆           │\n└─────────┴────────────┴───────────┴───────────┴───┴───────────┴───────────┴───────────┴───────────┘",
      "text/html": "<div><style>\n.dataframe > thead > tr,\n.dataframe > tbody > tr {\n  text-align: right;\n  white-space: pre-wrap;\n}\n</style>\n<small>shape: (15, 9)</small><table border=\"1\" class=\"dataframe\"><thead><tr><th>user_id</th><th>impression_time_fixed</th><th>scroll_percentage_fixed</th><th>article_id_fixed</th><th>read_time_fixed</th><th>impression_weekday</th><th>impression_hour</th><th>article_delta_time</th><th>number_articles</th></tr><tr><td>u32</td><td>list[datetime[μs]]</td><td>list[f64]</td><td>list[i64]</td><td>list[f32]</td><td>list[i64]</td><td>list[i64]</td><td>list[i64]</td><td>i64</td></tr></thead><tbody><tr><td>13538</td><td>[2023-04-27 10:17:43, 2023-04-27 10:18:01, … 2023-05-17 20:36:34]</td><td>[1.0, 0.35, … 1.0]</td><td>[6391, 6382, … 9222]</td><td>[17.0, 12.0, … 16.0]</td><td>[3, 3, … 2]</td><td>[10, 10, … 20]</td><td>[4, 31, … 37]</td><td>582</td></tr><tr><td>58608</td><td>[2023-04-27 18:48:09, 2023-04-27 18:48:45, … 2023-05-17 19:46:40]</td><td>[0.37, 0.61, … 0.0]</td><td>[6470, 6444, … 9311]</td><td>[2.0, 24.0, … 0.0]</td><td>[3, 3, … 2]</td><td>[18, 18, … 19]</td><td>[7, 57, … 79]</td><td>151</td></tr><tr><td>95507</td><td>[2023-04-27 15:20:28, 2023-04-27 15:20:47, … 2023-05-17 14:57:46]</td><td>[0.6, 1.0, … 0.0]</td><td>[6427, 6387, … 9234]</td><td>[18.0, 29.0, … 0.0]</td><td>[3, 3, … 2]</td><td>[15, 15, … 14]</td><td>[42, 37, … 70]</td><td>370</td></tr><tr><td>106588</td><td>[2023-04-27 08:29:09, 2023-04-27 08:29:26, … 2023-05-16 05:50:52]</td><td>[0.24, 0.57, … 1.0]</td><td>[6357, 6354, … 7318]</td><td>[9.0, 15.0, … 33.0]</td><td>[3, 3, … 1]</td><td>[8, 8, … 5]</td><td>[39, 47, … 95]</td><td>149</td></tr><tr><td>617963</td><td>[2023-04-27 14:42:25, 2023-04-27 14:43:10, … 2023-05-18 02:28:09]</td><td>[1.0, 1.0, … 0.9]</td><td>[6427, 6434, … 9349]</td><td>[45.0, 29.0, … 22.0]</td><td>[3, 3, … 3]</td><td>[14, 14, … 2]</td><td>[19, 1, … 78]</td><td>277</td></tr><tr><td>&hellip;</td><td>&hellip;</td><td>&hellip;</td><td>&hellip;</td><td>&hellip;</td><td>&hellip;</td><td>&hellip;</td><td>&hellip;</td><td>&hellip;</td></tr><tr><td>171559</td><td>[2023-04-28 09:33:17, 2023-04-28 09:34:23, … 2023-05-17 22:04:20]</td><td>[0.93, 1.0, … 1.0]</td><td>[6563, 6482, … 9256]</td><td>[17.0, 72.0, … 48.0]</td><td>[4, 4, … 2]</td><td>[9, 9, … 22]</td><td>[4, 75, … 81]</td><td>127</td></tr><tr><td>189524</td><td>[2023-04-27 07:12:05, 2023-04-27 07:12:54, … 2023-05-18 05:40:40]</td><td>[0.57, 0.33, … 1.0]</td><td>[6355, 6326, … 9355]</td><td>[13.0, 13.0, … 106.0]</td><td>[3, 3, … 3]</td><td>[7, 7, … 5]</td><td>[11, 72, … 0]</td><td>270</td></tr><tr><td>373598</td><td>[2023-04-27 22:39:22, 2023-04-27 23:12:03, … 2023-05-18 02:37:56]</td><td>[0.14, 1.0, … 0.7]</td><td>[6256, 6420, … 9282]</td><td>[45.0, 79.0, … 7.0]</td><td>[3, 3, … 3]</td><td>[22, 23, … 2]</td><td>[38, 83, … 90]</td><td>196</td></tr><tr><td>383378</td><td>[2023-04-28 10:59:24, 2023-04-28 11:02:37, … 2023-05-17 21:56:19]</td><td>[0.0, 0.99, … 1.0]</td><td>[6584, 6555, … 9349]</td><td>[192.0, 0.0, … 205.0]</td><td>[4, 4, … 2]</td><td>[10, 11, … 21]</td><td>[18, 2, … 12]</td><td>750</td></tr><tr><td>411733</td><td>[2023-04-27 08:45:44, 2023-04-27 09:56:36, … 2023-05-18 01:29:07]</td><td>[0.29, 0.26, … 0.0]</td><td>[6283, 6203, … 9222]</td><td>[12.0, 3.0, … 0.0]</td><td>[3, 3, … 3]</td><td>[8, 9, … 1]</td><td>[27, 40, … 81]</td><td>302</td></tr></tbody></table></div>"
     },
     "execution_count": 95,
     "metadata": {},
     "output_type": "execute_result"
    }
   ],
   "source": [
    "history.head(15)"
   ],
   "metadata": {
    "collapsed": false,
    "ExecuteTime": {
     "end_time": "2024-12-20T12:57:23.022683Z",
     "start_time": "2024-12-20T12:57:22.907491Z"
    }
   },
   "id": "5ddd92ca362c3b30"
  },
  {
   "cell_type": "code",
   "execution_count": 96,
   "outputs": [
    {
     "data": {
      "text/plain": "shape: (5, 26)\n┌───────────┬───────────┬───────────┬───────────┬───┬───────────┬───────────┬───────────┬──────────┐\n│ article_i ┆ title     ┆ subtitle  ┆ last_modi ┆ … ┆ ner_clust ┆ topics_li ┆ pub_weekd ┆ pub_hour │\n│ d         ┆ ---       ┆ ---       ┆ fied_time ┆   ┆ ers_link  ┆ nk        ┆ ay        ┆ ---      │\n│ ---       ┆ str       ┆ str       ┆ ---       ┆   ┆ ---       ┆ ---       ┆ ---       ┆ i8       │\n│ i32       ┆           ┆           ┆ datetime[ ┆   ┆ list[i64] ┆ list[i64] ┆ i8        ┆          │\n│           ┆           ┆           ┆ μs]       ┆   ┆           ┆           ┆           ┆          │\n╞═══════════╪═══════════╪═══════════╪═══════════╪═══╪═══════════╪═══════════╪═══════════╪══════════╡\n│ 3037230   ┆ Ishockey- ┆ ISHOCKEY: ┆ 2023-06-2 ┆ … ┆ []        ┆ [25, 21,  ┆ 3         ┆ 8        │\n│           ┆ spiller:  ┆ Ishockey- ┆ 9         ┆   ┆           ┆ … 37]     ┆           ┆          │\n│           ┆ Jeg       ┆ spilleren ┆ 06:20:57  ┆   ┆           ┆           ┆           ┆          │\n│           ┆ troede j… ┆ S…        ┆           ┆   ┆           ┆           ┆           ┆          │\n│ 3044020   ┆ Prins     ┆ Hoffet    ┆ 2023-06-2 ┆ … ┆ [11216,   ┆ [25, 21,  ┆ 2         ┆ 8        │\n│           ┆ Harry     ┆ tvang     ┆ 9         ┆   ┆ 13248]    ┆ … 47]     ┆           ┆          │\n│           ┆ tvunget   ┆ Prins     ┆ 06:21:16  ┆   ┆           ┆           ┆           ┆          │\n│           ┆ til       ┆ Harry til ┆           ┆   ┆           ┆           ┆           ┆          │\n│           ┆ dna-te…   ┆ a…        ┆           ┆   ┆           ┆           ┆           ┆          │\n│ 3057622   ┆ Rådden    ┆ Kan ikke  ┆ 2023-06-2 ┆ … ┆ []        ┆ [25, 66,  ┆ 0         ┆ 7        │\n│           ┆ kørsel på ┆ straffes: ┆ 9         ┆   ┆           ┆ 4]        ┆           ┆          │\n│           ┆ blå       ┆ Udenlands ┆ 06:21:24  ┆   ┆           ┆           ┆           ┆          │\n│           ┆ plader    ┆ ke…       ┆           ┆   ┆           ┆           ┆           ┆          │\n│ 3073151   ┆ Mærsk-arv ┆ FANGET I  ┆ 2023-06-2 ┆ … ┆ []        ┆ [10, 50,  ┆ 1         ┆ 6        │\n│           ┆ inger i   ┆ FLODBØLGE ┆ 9         ┆   ┆           ┆ … 52]     ┆           ┆          │\n│           ┆ livsfare  ┆ N: Skibsr ┆ 06:21:38  ┆   ┆           ┆           ┆           ┆          │\n│           ┆           ┆ ede…      ┆           ┆   ┆           ┆           ┆           ┆          │\n│ 3193383   ┆ Skød      ┆ 44-årig   ┆ 2023-06-2 ┆ … ┆ []        ┆ [25, 47]  ┆ 0         ┆ 15       │\n│           ┆ svigersøn ┆ kvinde    ┆ 9         ┆   ┆           ┆           ┆           ┆          │\n│           ┆ gennem    ┆ tiltalt   ┆ 06:22:57  ┆   ┆           ┆           ┆           ┆          │\n│           ┆ babydyne  ┆ for dra…  ┆           ┆   ┆           ┆           ┆           ┆          │\n└───────────┴───────────┴───────────┴───────────┴───┴───────────┴───────────┴───────────┴──────────┘",
      "text/html": "<div><style>\n.dataframe > thead > tr,\n.dataframe > tbody > tr {\n  text-align: right;\n  white-space: pre-wrap;\n}\n</style>\n<small>shape: (5, 26)</small><table border=\"1\" class=\"dataframe\"><thead><tr><th>article_id</th><th>title</th><th>subtitle</th><th>last_modified_time</th><th>premium</th><th>body</th><th>published_time</th><th>image_ids</th><th>article_type</th><th>url</th><th>ner_clusters</th><th>entity_groups</th><th>topics</th><th>category</th><th>subcategory</th><th>category_str</th><th>total_inviews</th><th>total_pageviews</th><th>total_read_time</th><th>sentiment_score</th><th>sentiment_label</th><th>category_link</th><th>ner_clusters_link</th><th>topics_link</th><th>pub_weekday</th><th>pub_hour</th></tr><tr><td>i32</td><td>str</td><td>str</td><td>datetime[μs]</td><td>i64</td><td>str</td><td>datetime[μs]</td><td>list[i64]</td><td>i64</td><td>str</td><td>list[i64]</td><td>list[str]</td><td>list[i64]</td><td>i64</td><td>list[i64]</td><td>str</td><td>i32</td><td>i32</td><td>f32</td><td>f32</td><td>i64</td><td>i64</td><td>list[i64]</td><td>list[i64]</td><td>i8</td><td>i8</td></tr></thead><tbody><tr><td>3037230</td><td>&quot;Ishockey-spiller: Jeg troede j…</td><td>&quot;ISHOCKEY: Ishockey-spilleren S…</td><td>2023-06-29 06:20:57</td><td>0</td><td>&quot;Ambitionerne om at komme til U…</td><td>2003-08-28 08:55:00</td><td>null</td><td>0</td><td>&quot;https://ekstrabladet.dk/sport/…</td><td>[]</td><td>[]</td><td>[4, 3, 9]</td><td>2</td><td>[]</td><td>&quot;sport&quot;</td><td>null</td><td>null</td><td>null</td><td>0.9752</td><td>0</td><td>22</td><td>[]</td><td>[25, 21, … 37]</td><td>3</td><td>8</td></tr><tr><td>3044020</td><td>&quot;Prins Harry tvunget til dna-te…</td><td>&quot;Hoffet tvang Prins Harry til a…</td><td>2023-06-29 06:21:16</td><td>0</td><td>&quot;Den britiske tabloidavis The S…</td><td>2005-06-29 08:47:00</td><td>[3097307, 3097197, 3104927]</td><td>0</td><td>&quot;https://ekstrabladet.dk/underh…</td><td>[]</td><td>[&quot;PER&quot;, &quot;PER&quot;]</td><td>[4, 3, … 6]</td><td>3</td><td>[]</td><td>&quot;underholdning&quot;</td><td>null</td><td>null</td><td>null</td><td>0.7084</td><td>0</td><td>23</td><td>[11216, 13248]</td><td>[25, 21, … 47]</td><td>2</td><td>8</td></tr><tr><td>3057622</td><td>&quot;Rådden kørsel på blå plader&quot;</td><td>&quot;Kan ikke straffes: Udenlandske…</td><td>2023-06-29 06:21:24</td><td>0</td><td>&quot;Slingrende spritkørsel. Grove …</td><td>2005-10-10 07:20:00</td><td>[3047102]</td><td>0</td><td>&quot;https://ekstrabladet.dk/nyhede…</td><td>[]</td><td>[]</td><td>[4]</td><td>0</td><td>[0]</td><td>&quot;nyheder&quot;</td><td>null</td><td>null</td><td>null</td><td>0.9236</td><td>0</td><td>12</td><td>[]</td><td>[25, 66, 4]</td><td>0</td><td>7</td></tr><tr><td>3073151</td><td>&quot;Mærsk-arvinger i livsfare&quot;</td><td>&quot;FANGET I FLODBØLGEN: Skibsrede…</td><td>2023-06-29 06:21:38</td><td>0</td><td>&quot;To oldebørn af skibsreder Mærs…</td><td>2005-01-04 06:59:00</td><td>[3067474, 3067478, 3153705]</td><td>0</td><td>&quot;https://ekstrabladet.dk/nyhede…</td><td>[]</td><td>[]</td><td>[1, 8, 5]</td><td>0</td><td>[0]</td><td>&quot;nyheder&quot;</td><td>null</td><td>null</td><td>null</td><td>0.9945</td><td>0</td><td>12</td><td>[]</td><td>[10, 50, … 52]</td><td>1</td><td>6</td></tr><tr><td>3193383</td><td>&quot;Skød svigersøn gennem babydyne&quot;</td><td>&quot;44-årig kvinde tiltalt for dra…</td><td>2023-06-29 06:22:57</td><td>0</td><td>&quot;En 44-årig mormor blev i dag f…</td><td>2003-09-15 15:30:00</td><td>null</td><td>0</td><td>&quot;https://ekstrabladet.dk/krimi/…</td><td>[]</td><td>[]</td><td>[4, 6]</td><td>1</td><td>[]</td><td>&quot;krimi&quot;</td><td>null</td><td>null</td><td>null</td><td>0.9966</td><td>0</td><td>9</td><td>[]</td><td>[25, 47]</td><td>0</td><td>15</td></tr></tbody></table></div>"
     },
     "execution_count": 96,
     "metadata": {},
     "output_type": "execute_result"
    }
   ],
   "source": [
    "article.head()"
   ],
   "metadata": {
    "collapsed": false,
    "ExecuteTime": {
     "end_time": "2024-12-20T12:57:23.052646Z",
     "start_time": "2024-12-20T12:57:22.970087Z"
    }
   },
   "id": "e5699e2822e3c443"
  },
  {
   "cell_type": "code",
   "execution_count": 97,
   "outputs": [],
   "source": [
    "behavior.write_parquet('preprocess/behaviors_train.parquet')\n",
    "history.write_parquet('preprocess/history_train.parquet')\n",
    "article.write_parquet('preprocess/article.parquet')\n",
    "categories_embs.write_parquet('preprocess/categories_embeddings.parquet')\n",
    "ner_embs.write_parquet('preprocess/ner_embeddings.parquet')\n",
    "topics_embs.write_parquet('preprocess/topics_embeddings.parquet')"
   ],
   "metadata": {
    "collapsed": false,
    "ExecuteTime": {
     "end_time": "2024-12-20T12:57:24.497373Z",
     "start_time": "2024-12-20T12:57:23.047360Z"
    }
   },
   "id": "9460c1edaba2a610"
  },
  {
   "cell_type": "code",
   "execution_count": 98,
   "outputs": [
    {
     "name": "stdout",
     "output_type": "stream",
     "text": [
      "Computing history & behavior dates\n",
      "Computing history user_id mapping and time percentiles\n",
      "Preprocessing behavior\n",
      "Preprocessing history\n"
     ]
    }
   ],
   "source": [
    "dataset = load_parquets('datasets/ebnerd_demo.zip')\n",
    "behavior_validation = dataset['validation/behaviors']\n",
    "history_validation = dataset['validation/history']\n",
    "del dataset\n",
    "\n",
    "behavior_validation, history_validation, _ = preprocess(behavior_validation, history_validation, article_publish_date, articleid_indexes, time_quartiles=time_quartiles)"
   ],
   "metadata": {
    "collapsed": false,
    "ExecuteTime": {
     "end_time": "2024-12-20T12:57:27.110617Z",
     "start_time": "2024-12-20T12:57:24.498503Z"
    }
   },
   "id": "d27c6a21447e4de8"
  },
  {
   "cell_type": "code",
   "execution_count": 99,
   "outputs": [],
   "source": [
    "behavior_validation.write_parquet('preprocess/behaviors_validation.parquet')\n",
    "history_validation.write_parquet('preprocess/history_validation.parquet')\n",
    "\n",
    "del behavior_validation\n",
    "del history_validation"
   ],
   "metadata": {
    "collapsed": false,
    "ExecuteTime": {
     "end_time": "2024-12-20T12:57:27.286399Z",
     "start_time": "2024-12-20T12:57:27.107246Z"
    }
   },
   "id": "80e73d7e1459976f"
  },
  {
   "cell_type": "code",
   "execution_count": 100,
   "outputs": [
    {
     "name": "stdout",
     "output_type": "stream",
     "text": [
      "Computing history & behavior dates\n",
      "Computing history user_id mapping and time percentiles\n",
      "Preprocessing behavior\n",
      "Preprocessing history\n"
     ]
    }
   ],
   "source": [
    "dataset = load_parquets('datasets/ebnerd_testset.zip')\n",
    "behavior_test = dataset['ebnerd_testset/test/behaviors']\n",
    "history_test = dataset['ebnerd_testset/test/history']\n",
    "del dataset\n",
    "\n",
    "behavior_test, history_test, _ = preprocess(behavior_test, history_test, article_publish_date, articleid_indexes, time_quartiles=time_quartiles)"
   ],
   "metadata": {
    "collapsed": false,
    "ExecuteTime": {
     "end_time": "2024-12-20T13:15:21.938704Z",
     "start_time": "2024-12-20T12:57:27.287789Z"
    }
   },
   "id": "618fa671b4ce240a"
  },
  {
   "cell_type": "code",
   "execution_count": 101,
   "outputs": [],
   "source": [
    "behavior_test.write_parquet('preprocess/behaviors_test.parquet')\n",
    "history_test.write_parquet('preprocess/history_test.parquet')\n",
    "\n",
    "del behavior_test\n",
    "del history_test"
   ],
   "metadata": {
    "collapsed": false,
    "ExecuteTime": {
     "end_time": "2024-12-20T13:17:05.317462Z",
     "start_time": "2024-12-20T13:15:21.954963Z"
    }
   },
   "id": "bd313a895fb53e8e"
  },
  {
   "cell_type": "code",
   "execution_count": 104,
   "outputs": [],
   "source": [
    "images = load_parquets('datasets/Ekstra_Bladet_image_embeddings.zip')['Ekstra_Bladet_image_embeddings/image_embeddings']\n",
    "image_embeddings = torch.from_numpy(np.asarray(list(images['image_embedding'])))"
   ],
   "metadata": {
    "collapsed": false,
    "ExecuteTime": {
     "end_time": "2024-12-20T15:21:41.044809Z",
     "start_time": "2024-12-20T15:21:36.775593Z"
    }
   },
   "id": "5d1377876ba79f28"
  },
  {
   "cell_type": "code",
   "execution_count": 105,
   "outputs": [
    {
     "data": {
      "text/plain": "shape: (5, 2)\n┌────────────┬─────────────────────────────────┐\n│ article_id ┆ image_embedding                 │\n│ ---        ┆ ---                             │\n│ i32        ┆ list[f32]                       │\n╞════════════╪═════════════════════════════════╡\n│ 9734738    ┆ [-0.023273, -0.039152, … -0.01… │\n│ 8647636    ┆ [-0.04257, -0.03809, … -0.0175… │\n│ 9715678    ┆ [0.012374, 0.02872, … 0.006563… │\n│ 4001699    ┆ [-0.026271, 0.043816, … -0.024… │\n│ 4127160    ┆ [-0.029413, 0.012622, … 0.0072… │\n└────────────┴─────────────────────────────────┘",
      "text/html": "<div><style>\n.dataframe > thead > tr,\n.dataframe > tbody > tr {\n  text-align: right;\n  white-space: pre-wrap;\n}\n</style>\n<small>shape: (5, 2)</small><table border=\"1\" class=\"dataframe\"><thead><tr><th>article_id</th><th>image_embedding</th></tr><tr><td>i32</td><td>list[f32]</td></tr></thead><tbody><tr><td>9734738</td><td>[-0.023273, -0.039152, … -0.018453]</td></tr><tr><td>8647636</td><td>[-0.04257, -0.03809, … -0.017567]</td></tr><tr><td>9715678</td><td>[0.012374, 0.02872, … 0.006563]</td></tr><tr><td>4001699</td><td>[-0.026271, 0.043816, … -0.024919]</td></tr><tr><td>4127160</td><td>[-0.029413, 0.012622, … 0.007242]</td></tr></tbody></table></div>"
     },
     "execution_count": 105,
     "metadata": {},
     "output_type": "execute_result"
    }
   ],
   "source": [
    "images.head()"
   ],
   "metadata": {
    "collapsed": false,
    "ExecuteTime": {
     "end_time": "2024-12-20T15:21:41.117548Z",
     "start_time": "2024-12-20T15:21:41.047013Z"
    }
   },
   "id": "c376dedc50276d09"
  },
  {
   "cell_type": "code",
   "execution_count": 108,
   "outputs": [
    {
     "data": {
      "text/plain": "tensor([[-0.0233, -0.0392, -0.0225,  ...,  0.0141,  0.0508, -0.0185],\n        [-0.0426, -0.0381, -0.0065,  ..., -0.0060,  0.0319, -0.0176],\n        [ 0.0124,  0.0287,  0.0160,  ...,  0.0137, -0.0131,  0.0066],\n        ...,\n        [-0.0118,  0.0167, -0.0028,  ...,  0.0503, -0.0552, -0.0017],\n        [-0.0341, -0.0155, -0.0303,  ...,  0.0745, -0.0248, -0.0297],\n        [-0.0296,  0.0014, -0.0294,  ...,  0.0188, -0.0003, -0.0026]])"
     },
     "execution_count": 108,
     "metadata": {},
     "output_type": "execute_result"
    }
   ],
   "source": [
    "image_embeddings"
   ],
   "metadata": {
    "collapsed": false,
    "ExecuteTime": {
     "end_time": "2024-12-20T15:22:05.399153Z",
     "start_time": "2024-12-20T15:22:05.312535Z"
    }
   },
   "id": "47fee6eed1e31806"
  },
  {
   "cell_type": "code",
   "execution_count": 109,
   "outputs": [],
   "source": [
    "from torch.utils.data import DataLoader, TensorDataset\n",
    "\n",
    "data_loader = DataLoader(TensorDataset(image_embeddings), batch_size=512, shuffle=True)"
   ],
   "metadata": {
    "collapsed": false,
    "ExecuteTime": {
     "end_time": "2024-12-20T15:22:05.473255Z",
     "start_time": "2024-12-20T15:22:05.383945Z"
    }
   },
   "id": "7002b051fb2774e8"
  },
  {
   "cell_type": "code",
   "execution_count": 110,
   "outputs": [],
   "source": [
    "from torch import nn\n",
    "import torch.nn.functional as F\n",
    "\n",
    "class Normalize(nn.Module):\n",
    "    \n",
    "    def __init__(self):\n",
    "        super().__init__()\n",
    "        pass\n",
    "\n",
    "    def forward(self, x):\n",
    "        return F.normalize(x, dim=-1)\n",
    "\n",
    "class EncodeDecoder(nn.Module):\n",
    "\n",
    "    def __init__(self, in_size=1024, hidden=[512, 128]):\n",
    "        super().__init__()\n",
    "        layers = [in_size] + hidden\n",
    "        self.encoder = nn.Sequential(*([nn.Linear(layers[i], layers[i+1], bias=False) for i in range(len(layers) - 1)] + [Normalize()]))\n",
    "        layers = layers[::-1]\n",
    "        self.decoder = nn.Sequential(*[nn.Linear(layers[i], layers[i+1], bias=False) for i in range(len(layers) - 1)])\n",
    "        pass\n",
    "\n",
    "    def forward(self, x):\n",
    "        return self.decoder(self.encoder(x))"
   ],
   "metadata": {
    "collapsed": false,
    "ExecuteTime": {
     "end_time": "2024-12-20T15:22:05.534475Z",
     "start_time": "2024-12-20T15:22:05.462880Z"
    }
   },
   "id": "6b884c5274d6b625"
  },
  {
   "cell_type": "code",
   "execution_count": 126,
   "outputs": [],
   "source": [
    "def setup_device():\n",
    "    \"\"\"Setup device (CPU or GPU) for training.\"\"\"\n",
    "    return 'cuda' if torch.cuda.is_available() else 'cpu'\n",
    "\n",
    "\n",
    "def load_or_initialize_model(model, model_path, device):\n",
    "    \"\"\"Load the model from the saved checkpoint or initialize a new one.\"\"\"\n",
    "    if os.path.exists(model_path):\n",
    "        print(f\"Loading model from {model_path}\")\n",
    "        model.load_state_dict(torch.load(model_path))\n",
    "    else:\n",
    "        print(f\"Training a new model. No checkpoint found at {model_path}\")\n",
    "    return model.to(device)\n",
    "\n",
    "\n",
    "def train_model(model, optimizer, data_loader, device, loss_fn, epochs=100, model_path='preprocess/image_encoder.pth'):\n",
    "    \"\"\"Train the model for a specified number of epochs and save its state.\"\"\"\n",
    "    for epoch in range(1, epochs):\n",
    "        epoch_loss = train_one_epoch(model, optimizer, data_loader, device, loss_fn, epoch)\n",
    "        print(f'Epoch {epoch}: Loss = {epoch_loss}')\n",
    "\n",
    "    torch.save(model.state_dict(), model_path)\n",
    "    print(f\"Model saved to {model_path}\")\n",
    "\n",
    "\n",
    "def train_one_epoch(model, optimizer, data_loader, device, loss_fn, epoch):\n",
    "    \"\"\"Train the model for a single epoch.\"\"\"\n",
    "    # model.train()\n",
    "    cumulative_loss = 0\n",
    "    num_steps = 0\n",
    "\n",
    "    # with tqdm(data_loader, leave=False) as progress_bar:\n",
    "    for batch in data_loader:\n",
    "        optimizer.zero_grad()\n",
    "        x = batch[0].to(device)\n",
    "        predictions = model(x)\n",
    "        loss = loss_fn(predictions, x)\n",
    "        loss.backward()\n",
    "        optimizer.step()\n",
    "        \n",
    "        cumulative_loss += loss.item()\n",
    "        num_steps+=1\n",
    "            # progress_bar.set_postfix(epoch=epoch, loss=cumulative_loss / num_steps)\n",
    "    \n",
    "    return cumulative_loss / num_steps"
   ],
   "metadata": {
    "collapsed": false,
    "ExecuteTime": {
     "end_time": "2024-12-20T17:52:24.409189Z",
     "start_time": "2024-12-20T17:52:24.343114Z"
    }
   },
   "id": "1a39b371bff5c18c"
  },
  {
   "cell_type": "code",
   "execution_count": 127,
   "outputs": [
    {
     "name": "stdout",
     "output_type": "stream",
     "text": [
      "Training a new model. No checkpoint found at preprocess/image_encoder.pth\n",
      "Epoch 1: Loss = 4.079316700447078e-05\n",
      "Epoch 2: Loss = 8.244247631769687e-07\n",
      "Epoch 3: Loss = 3.917144327156686e-07\n",
      "Epoch 4: Loss = 3.4455740194007645e-07\n",
      "Epoch 5: Loss = 3.114017838990675e-07\n",
      "Epoch 6: Loss = 2.651395495594266e-07\n",
      "Epoch 7: Loss = 2.367855713250199e-07\n",
      "Epoch 8: Loss = 2.2252195863493578e-07\n",
      "Epoch 9: Loss = 2.3785028440557309e-07\n",
      "Epoch 10: Loss = 2.0179111753809572e-07\n",
      "Epoch 11: Loss = 2.084538561266934e-07\n",
      "Epoch 12: Loss = 2.0565507495304238e-07\n",
      "Epoch 13: Loss = 1.9936636775736728e-07\n",
      "Epoch 14: Loss = 1.9721312109292435e-07\n",
      "Epoch 15: Loss = 1.9209090455366657e-07\n",
      "Epoch 16: Loss = 1.9032779901813476e-07\n",
      "Epoch 17: Loss = 1.8229686302231528e-07\n",
      "Epoch 18: Loss = 1.7678653114330135e-07\n",
      "Epoch 19: Loss = 1.781364825200765e-07\n",
      "Epoch 20: Loss = 1.8526445638849396e-07\n",
      "Epoch 21: Loss = 1.9245801805302326e-07\n",
      "Epoch 22: Loss = 1.693525711661281e-07\n",
      "Epoch 23: Loss = 1.9214004968386522e-07\n",
      "Epoch 24: Loss = 1.6240849562048277e-07\n",
      "Epoch 25: Loss = 1.8497625509371348e-07\n",
      "Epoch 26: Loss = 1.6227551927965411e-07\n",
      "Epoch 27: Loss = 1.641257858553181e-07\n",
      "Epoch 28: Loss = 1.3242568148520314e-07\n",
      "Epoch 29: Loss = 1.9735748110608834e-07\n",
      "Epoch 30: Loss = 1.4885389170690836e-07\n",
      "Epoch 31: Loss = 1.397035636450393e-07\n",
      "Epoch 32: Loss = 1.4706704234302478e-07\n",
      "Epoch 33: Loss = 1.330899777516226e-07\n",
      "Epoch 34: Loss = 1.434673571938405e-07\n",
      "Epoch 35: Loss = 1.5662821077490996e-07\n",
      "Epoch 36: Loss = 1.7099907366928934e-07\n",
      "Epoch 37: Loss = 9.445663566290493e-08\n",
      "Epoch 38: Loss = 1.7080596275341868e-07\n",
      "Epoch 39: Loss = 1.1529693197964652e-07\n",
      "Epoch 40: Loss = 1.1142648833468351e-07\n",
      "Epoch 41: Loss = 1.472434710941248e-07\n",
      "Epoch 42: Loss = 1.3353324464082e-07\n",
      "Epoch 43: Loss = 9.048184581241284e-08\n",
      "Epoch 44: Loss = 1.4530256150076986e-07\n",
      "Epoch 45: Loss = 1.1279850573984406e-07\n",
      "Epoch 46: Loss = 1.1828652328936933e-07\n",
      "Epoch 47: Loss = 1.12548542072611e-07\n",
      "Epoch 48: Loss = 1.0583018417827955e-07\n",
      "Epoch 49: Loss = 1.434448372311631e-07\n",
      "Epoch 50: Loss = 7.661998312320197e-08\n",
      "Epoch 51: Loss = 1.350535442550459e-07\n",
      "Epoch 52: Loss = 8.138177037294984e-08\n",
      "Epoch 53: Loss = 1.2347817003482173e-07\n",
      "Epoch 54: Loss = 9.207310672870258e-08\n",
      "Epoch 55: Loss = 1.077897468617628e-07\n",
      "Epoch 56: Loss = 8.22211147458381e-08\n",
      "Epoch 57: Loss = 1.256061078740246e-07\n",
      "Epoch 58: Loss = 8.774029839657229e-08\n",
      "Epoch 59: Loss = 8.870949523212918e-08\n",
      "Epoch 60: Loss = 1.31994965325947e-07\n",
      "Epoch 61: Loss = 6.340360414469615e-08\n",
      "Epoch 62: Loss = 1.393508550740107e-07\n",
      "Epoch 63: Loss = 5.8942871943169045e-08\n",
      "Epoch 64: Loss = 1.0250743853966742e-07\n",
      "Epoch 65: Loss = 8.95335937970846e-08\n",
      "Epoch 66: Loss = 9.980257817744304e-08\n",
      "Epoch 67: Loss = 7.003918462337039e-08\n",
      "Epoch 68: Loss = 1.14895642223109e-07\n",
      "Epoch 69: Loss = 7.494122912061497e-08\n",
      "Epoch 70: Loss = 8.06215100428586e-08\n",
      "Epoch 71: Loss = 9.716882970992198e-08\n",
      "Epoch 72: Loss = 9.037312414834763e-08\n",
      "Epoch 73: Loss = 8.64129868733048e-08\n",
      "Epoch 74: Loss = 7.031047042316495e-08\n",
      "Epoch 75: Loss = 9.154135252363368e-08\n",
      "Epoch 76: Loss = 1.0919664544612874e-07\n",
      "Epoch 77: Loss = 6.34437476705683e-08\n",
      "Epoch 78: Loss = 1.071174464905017e-07\n",
      "Epoch 79: Loss = 6.12949745796547e-08\n",
      "Epoch 80: Loss = 6.962382675697175e-08\n",
      "Epoch 81: Loss = 9.388889395298594e-08\n",
      "Epoch 82: Loss = 9.11503235874819e-08\n",
      "Epoch 83: Loss = 5.8288020468851085e-08\n",
      "Epoch 84: Loss = 9.80815438949708e-08\n",
      "Epoch 85: Loss = 6.360067532883268e-08\n",
      "Epoch 86: Loss = 1.0616832778978776e-07\n",
      "Epoch 87: Loss = 5.8540387679451794e-08\n",
      "Epoch 88: Loss = 8.693304315879211e-08\n",
      "Epoch 89: Loss = 6.037776819142376e-08\n",
      "Epoch 90: Loss = 1.1215779489670177e-07\n",
      "Epoch 91: Loss = 5.508878142159436e-08\n",
      "Epoch 92: Loss = 7.751494593573956e-08\n",
      "Epoch 93: Loss = 7.12012712758158e-08\n",
      "Epoch 94: Loss = 8.308939197704671e-08\n",
      "Epoch 95: Loss = 6.070187701080858e-08\n",
      "Epoch 96: Loss = 7.019783418120629e-08\n",
      "Epoch 97: Loss = 7.489525993969324e-08\n",
      "Epoch 98: Loss = 7.907721112304948e-08\n",
      "Epoch 99: Loss = 6.539875294708455e-08\n",
      "Model saved to preprocess/image_encoder.pth\n"
     ]
    },
    {
     "data": {
      "text/plain": "EncodeDecoder(\n  (encoder): Sequential(\n    (0): Linear(in_features=1024, out_features=512, bias=False)\n    (1): Linear(in_features=512, out_features=128, bias=False)\n    (2): Normalize()\n  )\n  (decoder): Sequential(\n    (0): Linear(in_features=128, out_features=512, bias=False)\n    (1): Linear(in_features=512, out_features=1024, bias=False)\n  )\n)"
     },
     "execution_count": 127,
     "metadata": {},
     "output_type": "execute_result"
    }
   ],
   "source": [
    "from torch import optim\n",
    "\n",
    "device = setup_device()\n",
    "    \n",
    "# Initialize model, optimizer, and loss function\n",
    "model = EncodeDecoder().to(device)\n",
    "optimizer = optim.Adam(model.parameters())\n",
    "loss_fn = nn.MSELoss()\n",
    "\n",
    "# Model path\n",
    "model_path = 'preprocess/image_encoder.pth'\n",
    "\n",
    "# Load model if checkpoint exists, else start from scratch\n",
    "model = load_or_initialize_model(model, model_path, device)\n",
    "\n",
    "# Train model\n",
    "train_model(model, optimizer, data_loader, device, loss_fn, epochs=100, model_path=model_path)\n",
    "\n",
    "model.eval()"
   ],
   "metadata": {
    "collapsed": false,
    "ExecuteTime": {
     "end_time": "2024-12-20T17:57:29.024432Z",
     "start_time": "2024-12-20T17:52:26.105964Z"
    }
   },
   "id": "6a2fd4cb60e38bd7"
  },
  {
   "cell_type": "code",
   "execution_count": 129,
   "outputs": [
    {
     "data": {
      "text/plain": "shape: (102_603, 2)\n┌────────────┬─────────────────────────────────┐\n│ article_id ┆ embeddings                      │\n│ ---        ┆ ---                             │\n│ i32        ┆ array[f32, 128]                 │\n╞════════════╪═════════════════════════════════╡\n│ 9734738    ┆ [0.263068, 0.135309, … -0.2117… │\n│ 8647636    ┆ [0.274699, 0.283317, … -0.1794… │\n│ 9715678    ┆ [0.044149, -0.111148, … -0.004… │\n│ 4001699    ┆ [0.301314, 0.272426, … -0.0624… │\n│ 4127160    ┆ [0.326045, 0.207151, … -0.0549… │\n│ …          ┆ …                               │\n│ 5526970    ┆ [0.34692, 0.222736, … 0.097438… │\n│ 4006630    ┆ [0.325028, 0.244405, … 0.19539… │\n│ 7742851    ┆ [0.189014, 0.07577, … -0.08056… │\n│ 4789449    ┆ [0.282656, 0.001676, … 0.11607… │\n│ 9728974    ┆ [0.332306, 0.004454, … -0.1082… │\n└────────────┴─────────────────────────────────┘",
      "text/html": "<div><style>\n.dataframe > thead > tr,\n.dataframe > tbody > tr {\n  text-align: right;\n  white-space: pre-wrap;\n}\n</style>\n<small>shape: (102_603, 2)</small><table border=\"1\" class=\"dataframe\"><thead><tr><th>article_id</th><th>embeddings</th></tr><tr><td>i32</td><td>array[f32, 128]</td></tr></thead><tbody><tr><td>9734738</td><td>[0.263068, 0.135309, … -0.211787]</td></tr><tr><td>8647636</td><td>[0.274699, 0.283317, … -0.179495]</td></tr><tr><td>9715678</td><td>[0.044149, -0.111148, … -0.004841]</td></tr><tr><td>4001699</td><td>[0.301314, 0.272426, … -0.062496]</td></tr><tr><td>4127160</td><td>[0.326045, 0.207151, … -0.05491]</td></tr><tr><td>&hellip;</td><td>&hellip;</td></tr><tr><td>5526970</td><td>[0.34692, 0.222736, … 0.097438]</td></tr><tr><td>4006630</td><td>[0.325028, 0.244405, … 0.195393]</td></tr><tr><td>7742851</td><td>[0.189014, 0.07577, … -0.080563]</td></tr><tr><td>4789449</td><td>[0.282656, 0.001676, … 0.11607]</td></tr><tr><td>9728974</td><td>[0.332306, 0.004454, … -0.108256]</td></tr></tbody></table></div>"
     },
     "execution_count": 129,
     "metadata": {},
     "output_type": "execute_result"
    }
   ],
   "source": [
    "data_loader = DataLoader(TensorDataset(image_embeddings), batch_size=512, shuffle=False)\n",
    "\n",
    "embeddings = []\n",
    "with torch.no_grad():\n",
    "    for x in data_loader:\n",
    "        x = x[0].to(device)\n",
    "        embedding = model.encoder(x).cpu().numpy()\n",
    "        embeddings.append(embedding)\n",
    "\n",
    "embeddings = np.concatenate(embeddings, axis=0)\n",
    "embeddings = pl.DataFrame(data=embeddings, schema=['embeddings']).with_columns(images['article_id']).select('article_id', 'embeddings')\n",
    "embeddings"
   ],
   "metadata": {
    "collapsed": false,
    "ExecuteTime": {
     "end_time": "2024-12-20T18:04:12.927666Z",
     "start_time": "2024-12-20T18:04:11.823330Z"
    }
   },
   "id": "2d99c9c06c654d07"
  },
  {
   "cell_type": "code",
   "execution_count": 130,
   "outputs": [],
   "source": [
    "embeddings.write_parquet('preprocess/image_embeddings.parquet')"
   ],
   "metadata": {
    "collapsed": false,
    "ExecuteTime": {
     "end_time": "2024-12-20T18:27:22.065380Z",
     "start_time": "2024-12-20T18:27:21.597776Z"
    }
   },
   "id": "a6c326a43b7deafc"
  }
 ],
 "metadata": {
  "kernelspec": {
   "display_name": "Python 3",
   "language": "python",
   "name": "python3"
  },
  "language_info": {
   "codemirror_mode": {
    "name": "ipython",
    "version": 2
   },
   "file_extension": ".py",
   "mimetype": "text/x-python",
   "name": "python",
   "nbconvert_exporter": "python",
   "pygments_lexer": "ipython2",
   "version": "2.7.6"
  }
 },
 "nbformat": 4,
 "nbformat_minor": 5
}
