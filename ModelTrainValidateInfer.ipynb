{
 "cells": [
  {
   "cell_type": "code",
   "execution_count": 1,
   "outputs": [],
   "source": [
    "%load_ext autoreload\n",
    "%autoreload 2"
   ],
   "metadata": {
    "collapsed": false,
    "ExecuteTime": {
     "end_time": "2024-12-20T22:46:22.841612Z",
     "start_time": "2024-12-20T22:46:22.809915Z"
    }
   },
   "id": "af9cd2b2c14b41a0"
  },
  {
   "cell_type": "code",
   "execution_count": 2,
   "id": "initial_id",
   "metadata": {
    "collapsed": true,
    "ExecuteTime": {
     "end_time": "2024-12-20T22:46:29.151989Z",
     "start_time": "2024-12-20T22:46:22.836432Z"
    }
   },
   "outputs": [],
   "source": [
    "import polars as pl\n",
    "import numpy as np\n",
    "from tqdm.auto import tqdm\n",
    "import torch\n",
    "from data_process import *\n",
    "from model import *\n",
    "import random"
   ]
  },
  {
   "cell_type": "code",
   "execution_count": 3,
   "outputs": [],
   "source": [
    "# Set random seeds for reproducibility\n",
    "random.seed(42)\n",
    "torch.manual_seed(42)\n",
    "np.random.seed(42)"
   ],
   "metadata": {
    "collapsed": false,
    "ExecuteTime": {
     "end_time": "2024-12-20T22:46:29.183104Z",
     "start_time": "2024-12-20T22:46:29.152543Z"
    }
   },
   "id": "c98d74649e9643c5"
  },
  {
   "cell_type": "markdown",
   "source": [
    "**Training model**"
   ],
   "metadata": {
    "collapsed": false
   },
   "id": "49077bc543e1c2ec"
  },
  {
   "cell_type": "code",
   "execution_count": 33,
   "outputs": [
    {
     "name": "stdout",
     "output_type": "stream",
     "text": [
      "Loading training data...\n"
     ]
    }
   ],
   "source": [
    "print('Loading training data...')\n",
    "\n",
    "behaviors_train = pl.read_parquet('preprocess/behaviors_train.parquet')\n",
    "history_train = pl.read_parquet('preprocess/history_train.parquet')\n",
    "article = pl.read_parquet('preprocess/article.parquet')\n",
    "images_embeddings = pl.read_parquet('preprocess/image_embeddings.parquet')\n",
    "categories = pl.read_parquet('preprocess/categories_embeddings.parquet')\n",
    "\n",
    "article_embeddings = load_parquets('datasets/FacebookAI_xlm_roberta_base.zip')['FacebookAI_xlm_roberta_base/xlm_roberta_base'] \n",
    "article_image_embeddings = merge_article_with_imgs(article_embeddings, images_embeddings, col='embeddings')\n"
   ],
   "metadata": {
    "collapsed": false,
    "ExecuteTime": {
     "end_time": "2024-12-20T23:14:57.587094Z",
     "start_time": "2024-12-20T23:14:52.581084Z"
    }
   },
   "id": "3d42b4475c92fcfe"
  },
  {
   "cell_type": "code",
   "execution_count": 39,
   "outputs": [],
   "source": [
    "article = article.fill_null(0)"
   ],
   "metadata": {
    "collapsed": false,
    "ExecuteTime": {
     "end_time": "2024-12-20T23:19:12.684338Z",
     "start_time": "2024-12-20T23:19:12.637436Z"
    }
   },
   "id": "33594a482f9f40a1"
  },
  {
   "cell_type": "code",
   "execution_count": 40,
   "outputs": [
    {
     "name": "stdout",
     "output_type": "stream",
     "text": [
      "(24724, 21)\n",
      "(1590, 9)\n",
      "(11777, 26)\n",
      "(102603, 2)\n",
      "(25, 2)\n",
      "(125541, 3)\n"
     ]
    }
   ],
   "source": [
    "print(behaviors_train.shape)\n",
    "print(history_train.shape)\n",
    "print(article.shape)\n",
    "print(images_embeddings.shape)\n",
    "print(categories.shape)\n",
    "# print(article_embeddings)\n",
    "print(article_image_embeddings.shape)"
   ],
   "metadata": {
    "collapsed": false,
    "ExecuteTime": {
     "end_time": "2024-12-20T23:19:14.290255Z",
     "start_time": "2024-12-20T23:19:14.221993Z"
    }
   },
   "id": "f53394a40c3026e"
  },
  {
   "cell_type": "code",
   "execution_count": 41,
   "outputs": [
    {
     "data": {
      "text/plain": "shape: (11_777, 26)\n┌───────────┬───────────┬───────────┬───────────┬───┬───────────┬───────────┬───────────┬──────────┐\n│ article_i ┆ title     ┆ subtitle  ┆ last_modi ┆ … ┆ ner_clust ┆ topics_li ┆ pub_weekd ┆ pub_hour │\n│ d         ┆ ---       ┆ ---       ┆ fied_time ┆   ┆ ers_link  ┆ nk        ┆ ay        ┆ ---      │\n│ ---       ┆ str       ┆ str       ┆ ---       ┆   ┆ ---       ┆ ---       ┆ ---       ┆ i8       │\n│ i32       ┆           ┆           ┆ datetime[ ┆   ┆ list[i64] ┆ list[i64] ┆ i8        ┆          │\n│           ┆           ┆           ┆ μs]       ┆   ┆           ┆           ┆           ┆          │\n╞═══════════╪═══════════╪═══════════╪═══════════╪═══╪═══════════╪═══════════╪═══════════╪══════════╡\n│ 3037230   ┆ Ishockey- ┆ ISHOCKEY: ┆ 2023-06-2 ┆ … ┆ []        ┆ [25, 21,  ┆ 3         ┆ 8        │\n│           ┆ spiller:  ┆ Ishockey- ┆ 9         ┆   ┆           ┆ … 37]     ┆           ┆          │\n│           ┆ Jeg       ┆ spilleren ┆ 06:20:57  ┆   ┆           ┆           ┆           ┆          │\n│           ┆ troede j… ┆ S…        ┆           ┆   ┆           ┆           ┆           ┆          │\n│ 3044020   ┆ Prins     ┆ Hoffet    ┆ 2023-06-2 ┆ … ┆ [11216,   ┆ [25, 21,  ┆ 2         ┆ 8        │\n│           ┆ Harry     ┆ tvang     ┆ 9         ┆   ┆ 13248]    ┆ … 47]     ┆           ┆          │\n│           ┆ tvunget   ┆ Prins     ┆ 06:21:16  ┆   ┆           ┆           ┆           ┆          │\n│           ┆ til       ┆ Harry til ┆           ┆   ┆           ┆           ┆           ┆          │\n│           ┆ dna-te…   ┆ a…        ┆           ┆   ┆           ┆           ┆           ┆          │\n│ 3057622   ┆ Rådden    ┆ Kan ikke  ┆ 2023-06-2 ┆ … ┆ []        ┆ [25, 66,  ┆ 0         ┆ 7        │\n│           ┆ kørsel på ┆ straffes: ┆ 9         ┆   ┆           ┆ 4]        ┆           ┆          │\n│           ┆ blå       ┆ Udenlands ┆ 06:21:24  ┆   ┆           ┆           ┆           ┆          │\n│           ┆ plader    ┆ ke…       ┆           ┆   ┆           ┆           ┆           ┆          │\n│ 3073151   ┆ Mærsk-arv ┆ FANGET I  ┆ 2023-06-2 ┆ … ┆ []        ┆ [10, 50,  ┆ 1         ┆ 6        │\n│           ┆ inger i   ┆ FLODBØLGE ┆ 9         ┆   ┆           ┆ … 52]     ┆           ┆          │\n│           ┆ livsfare  ┆ N: Skibsr ┆ 06:21:38  ┆   ┆           ┆           ┆           ┆          │\n│           ┆           ┆ ede…      ┆           ┆   ┆           ┆           ┆           ┆          │\n│ 3193383   ┆ Skød      ┆ 44-årig   ┆ 2023-06-2 ┆ … ┆ []        ┆ [25, 47]  ┆ 0         ┆ 15       │\n│           ┆ svigersøn ┆ kvinde    ┆ 9         ┆   ┆           ┆           ┆           ┆          │\n│           ┆ gennem    ┆ tiltalt   ┆ 06:22:57  ┆   ┆           ┆           ┆           ┆          │\n│           ┆ babydyne  ┆ for dra…  ┆           ┆   ┆           ┆           ┆           ┆          │\n│ …         ┆ …         ┆ …         ┆ …         ┆ … ┆ …         ┆ …         ┆ …         ┆ …        │\n│ 9803492   ┆ Vilde     ┆ Der er    ┆ 2023-06-2 ┆ … ┆ [11285,   ┆ [20, 72,  ┆ 3         ┆ 5        │\n│           ┆ billeder: ┆ gang i    ┆ 9         ┆   ┆ 15434, …  ┆ 59]       ┆           ┆          │\n│           ┆ Vulkan i  ┆ vulkanen  ┆ 06:49:26  ┆   ┆ 30071]    ┆           ┆           ┆          │\n│           ┆ udbru…    ┆ på Hawa…  ┆           ┆   ┆           ┆           ┆           ┆          │\n│ 9803505   ┆ Flyvende  ┆ Verdens   ┆ 2023-06-2 ┆ … ┆ [892,     ┆ [21, 3, … ┆ 3         ┆ 5        │\n│           ┆ Antonsen  ┆ nummer    ┆ 9         ┆   ┆ 995, …    ┆ 58]       ┆           ┆          │\n│           ┆ knuser    ┆ syv, Chou ┆ 06:49:26  ┆   ┆ 28251]    ┆           ┆           ┆          │\n│           ┆ topsp…    ┆ Tien-…    ┆           ┆   ┆           ┆           ┆           ┆          │\n│ 9803525   ┆ Dansk sku ┆ Julie R.  ┆ 2023-06-2 ┆ … ┆ [5626,    ┆ [21, 32,  ┆ 3         ┆ 6        │\n│           ┆ espiller: ┆ Ølgaard   ┆ 9         ┆   ┆ 8166, …   ┆ … 62]     ┆           ┆          │\n│           ┆ - Jeg     ┆ fik akut  ┆ 06:49:26  ┆   ┆ 27754]    ┆           ┆           ┆          │\n│           ┆ nægte…    ┆ kejs…     ┆           ┆   ┆           ┆           ┆           ┆          │\n│ 9803560   ┆ Så slemt  ┆ Tusindvis ┆ 2023-06-2 ┆ … ┆ [7192,    ┆ [19, 20,  ┆ 3         ┆ 6        │\n│           ┆ er det:   ┆ af huse   ┆ 9         ┆   ┆ 15388, …  ┆ … 49]     ┆           ┆          │\n│           ┆ 14.000    ┆ står      ┆ 06:49:26  ┆   ┆ 30140]    ┆           ┆           ┆          │\n│           ┆ huse e…   ┆ under v…  ┆           ┆   ┆           ┆           ┆           ┆          │\n│ 9803607   ┆ Aktion    ┆ Flere     ┆ 2023-06-2 ┆ … ┆ [429,     ┆ [25, 2]   ┆ 3         ┆ 6        │\n│           ┆ mod svind ┆ kvinder   ┆ 9         ┆   ┆ 2964, …   ┆           ┆           ┆          │\n│           ┆ lere:     ┆ er ifølge ┆ 06:49:26  ┆   ┆ 29962]    ┆           ┆           ┆          │\n│           ┆ Seks per… ┆ politi…   ┆           ┆   ┆           ┆           ┆           ┆          │\n└───────────┴───────────┴───────────┴───────────┴───┴───────────┴───────────┴───────────┴──────────┘",
      "text/html": "<div><style>\n.dataframe > thead > tr,\n.dataframe > tbody > tr {\n  text-align: right;\n  white-space: pre-wrap;\n}\n</style>\n<small>shape: (11_777, 26)</small><table border=\"1\" class=\"dataframe\"><thead><tr><th>article_id</th><th>title</th><th>subtitle</th><th>last_modified_time</th><th>premium</th><th>body</th><th>published_time</th><th>image_ids</th><th>article_type</th><th>url</th><th>ner_clusters</th><th>entity_groups</th><th>topics</th><th>category</th><th>subcategory</th><th>category_str</th><th>total_inviews</th><th>total_pageviews</th><th>total_read_time</th><th>sentiment_score</th><th>sentiment_label</th><th>category_link</th><th>ner_clusters_link</th><th>topics_link</th><th>pub_weekday</th><th>pub_hour</th></tr><tr><td>i32</td><td>str</td><td>str</td><td>datetime[μs]</td><td>i64</td><td>str</td><td>datetime[μs]</td><td>list[i64]</td><td>i64</td><td>str</td><td>list[i64]</td><td>list[str]</td><td>list[i64]</td><td>i64</td><td>list[i64]</td><td>str</td><td>i32</td><td>i32</td><td>f32</td><td>f32</td><td>i64</td><td>i64</td><td>list[i64]</td><td>list[i64]</td><td>i8</td><td>i8</td></tr></thead><tbody><tr><td>3037230</td><td>&quot;Ishockey-spiller: Jeg troede j…</td><td>&quot;ISHOCKEY: Ishockey-spilleren S…</td><td>2023-06-29 06:20:57</td><td>0</td><td>&quot;Ambitionerne om at komme til U…</td><td>2003-08-28 08:55:00</td><td>null</td><td>0</td><td>&quot;https://ekstrabladet.dk/sport/…</td><td>[]</td><td>[]</td><td>[4, 3, 9]</td><td>2</td><td>[]</td><td>&quot;sport&quot;</td><td>0</td><td>0</td><td>0.0</td><td>0.9752</td><td>0</td><td>22</td><td>[]</td><td>[25, 21, … 37]</td><td>3</td><td>8</td></tr><tr><td>3044020</td><td>&quot;Prins Harry tvunget til dna-te…</td><td>&quot;Hoffet tvang Prins Harry til a…</td><td>2023-06-29 06:21:16</td><td>0</td><td>&quot;Den britiske tabloidavis The S…</td><td>2005-06-29 08:47:00</td><td>[3097307, 3097197, 3104927]</td><td>0</td><td>&quot;https://ekstrabladet.dk/underh…</td><td>[]</td><td>[&quot;PER&quot;, &quot;PER&quot;]</td><td>[4, 3, … 6]</td><td>3</td><td>[]</td><td>&quot;underholdning&quot;</td><td>0</td><td>0</td><td>0.0</td><td>0.7084</td><td>0</td><td>23</td><td>[11216, 13248]</td><td>[25, 21, … 47]</td><td>2</td><td>8</td></tr><tr><td>3057622</td><td>&quot;Rådden kørsel på blå plader&quot;</td><td>&quot;Kan ikke straffes: Udenlandske…</td><td>2023-06-29 06:21:24</td><td>0</td><td>&quot;Slingrende spritkørsel. Grove …</td><td>2005-10-10 07:20:00</td><td>[3047102]</td><td>0</td><td>&quot;https://ekstrabladet.dk/nyhede…</td><td>[]</td><td>[]</td><td>[4]</td><td>0</td><td>[0]</td><td>&quot;nyheder&quot;</td><td>0</td><td>0</td><td>0.0</td><td>0.9236</td><td>0</td><td>12</td><td>[]</td><td>[25, 66, 4]</td><td>0</td><td>7</td></tr><tr><td>3073151</td><td>&quot;Mærsk-arvinger i livsfare&quot;</td><td>&quot;FANGET I FLODBØLGEN: Skibsrede…</td><td>2023-06-29 06:21:38</td><td>0</td><td>&quot;To oldebørn af skibsreder Mærs…</td><td>2005-01-04 06:59:00</td><td>[3067474, 3067478, 3153705]</td><td>0</td><td>&quot;https://ekstrabladet.dk/nyhede…</td><td>[]</td><td>[]</td><td>[1, 8, 5]</td><td>0</td><td>[0]</td><td>&quot;nyheder&quot;</td><td>0</td><td>0</td><td>0.0</td><td>0.9945</td><td>0</td><td>12</td><td>[]</td><td>[10, 50, … 52]</td><td>1</td><td>6</td></tr><tr><td>3193383</td><td>&quot;Skød svigersøn gennem babydyne&quot;</td><td>&quot;44-årig kvinde tiltalt for dra…</td><td>2023-06-29 06:22:57</td><td>0</td><td>&quot;En 44-årig mormor blev i dag f…</td><td>2003-09-15 15:30:00</td><td>null</td><td>0</td><td>&quot;https://ekstrabladet.dk/krimi/…</td><td>[]</td><td>[]</td><td>[4, 6]</td><td>1</td><td>[]</td><td>&quot;krimi&quot;</td><td>0</td><td>0</td><td>0.0</td><td>0.9966</td><td>0</td><td>9</td><td>[]</td><td>[25, 47]</td><td>0</td><td>15</td></tr><tr><td>&hellip;</td><td>&hellip;</td><td>&hellip;</td><td>&hellip;</td><td>&hellip;</td><td>&hellip;</td><td>&hellip;</td><td>&hellip;</td><td>&hellip;</td><td>&hellip;</td><td>&hellip;</td><td>&hellip;</td><td>&hellip;</td><td>&hellip;</td><td>&hellip;</td><td>&hellip;</td><td>&hellip;</td><td>&hellip;</td><td>&hellip;</td><td>&hellip;</td><td>&hellip;</td><td>&hellip;</td><td>&hellip;</td><td>&hellip;</td><td>&hellip;</td><td>&hellip;</td></tr><tr><td>9803492</td><td>&quot;Vilde billeder: Vulkan i udbru…</td><td>&quot;Der er gang i vulkanen på Hawa…</td><td>2023-06-29 06:49:26</td><td>0</td><td>&quot;Det spyer med lava fra vulkane…</td><td>2023-06-08 05:49:20</td><td>[9803493, 9803494, … 9803494]</td><td>0</td><td>&quot;https://ekstrabladet.dk/nyhede…</td><td>[]</td><td>[&quot;LOC&quot;, &quot;LOC&quot;, … &quot;ORG&quot;]</td><td>[]</td><td>0</td><td>[0]</td><td>&quot;nyheder&quot;</td><td>535989</td><td>100120</td><td>4.112624e6</td><td>0.6095</td><td>1</td><td>12</td><td>[11285, 15434, … 30071]</td><td>[20, 72, 59]</td><td>3</td><td>5</td></tr><tr><td>9803505</td><td>&quot;Flyvende Antonsen knuser topsp…</td><td>&quot;Verdens nummer syv, Chou Tien-…</td><td>2023-06-29 06:49:26</td><td>0</td><td>&quot;Anders Antonsen har holdt paus…</td><td>2023-06-08 05:54:06</td><td>[9803516]</td><td>0</td><td>&quot;https://ekstrabladet.dk/sport/…</td><td>[0, 0]</td><td>[&quot;PER&quot;, &quot;PROD&quot;, … &quot;LOC&quot;]</td><td>[3, 0, … 10]</td><td>2</td><td>[]</td><td>&quot;sport&quot;</td><td>13320</td><td>959</td><td>55691.0</td><td>0.8884</td><td>2</td><td>22</td><td>[892, 995, … 28251]</td><td>[21, 3, … 58]</td><td>3</td><td>5</td></tr><tr><td>9803525</td><td>&quot;Dansk skuespiller: - Jeg nægte…</td><td>&quot;Julie R. Ølgaard fik akut kejs…</td><td>2023-06-29 06:49:26</td><td>0</td><td>&quot;Mens hun lå søvnløs, lød kakof…</td><td>2023-06-08 06:45:46</td><td>[9803518, 9803519, … 9803524]</td><td>0</td><td>&quot;https://ekstrabladet.dk/underh…</td><td>[]</td><td>[&quot;PER&quot;, &quot;PROD&quot;, … &quot;MISC&quot;]</td><td>[3, 5, 11]</td><td>3</td><td>[]</td><td>&quot;underholdning&quot;</td><td>315391</td><td>50361</td><td>2.550671e6</td><td>0.7737</td><td>0</td><td>23</td><td>[5626, 8166, … 27754]</td><td>[21, 32, … 62]</td><td>3</td><td>6</td></tr><tr><td>9803560</td><td>&quot;Så slemt er det: 14.000 huse e…</td><td>&quot;Tusindvis af huse står under v…</td><td>2023-06-29 06:49:26</td><td>0</td><td>&quot;Et område på omkring 600 kvadr…</td><td>2023-06-08 06:25:42</td><td>null</td><td>0</td><td>&quot;https://ekstrabladet.dk/nyhede…</td><td>[]</td><td>[&quot;LOC&quot;, &quot;LOC&quot;, … &quot;LOC&quot;]</td><td>[7]</td><td>0</td><td>[]</td><td>&quot;nyheder&quot;</td><td>21318</td><td>1237</td><td>67514.0</td><td>0.9927</td><td>0</td><td>12</td><td>[7192, 15388, … 30140]</td><td>[19, 20, … 49]</td><td>3</td><td>6</td></tr><tr><td>9803607</td><td>&quot;Aktion mod svindlere: Seks per…</td><td>&quot;Flere kvinder er ifølge politi…</td><td>2023-06-29 06:49:26</td><td>0</td><td>&quot;Mindst otte personer er blevet…</td><td>2023-06-08 06:54:53</td><td>[9803906]</td><td>0</td><td>&quot;https://ekstrabladet.dk/krimi/…</td><td>[2, 2]</td><td>[&quot;PER&quot;, &quot;PER&quot;, … &quot;ORG&quot;]</td><td>[4]</td><td>1</td><td>[]</td><td>&quot;krimi&quot;</td><td>331057</td><td>79590</td><td>3.69476e6</td><td>0.9948</td><td>0</td><td>9</td><td>[429, 2964, … 29962]</td><td>[25, 2]</td><td>3</td><td>6</td></tr></tbody></table></div>"
     },
     "execution_count": 41,
     "metadata": {},
     "output_type": "execute_result"
    }
   ],
   "source": [
    "article"
   ],
   "metadata": {
    "collapsed": false,
    "ExecuteTime": {
     "end_time": "2024-12-20T23:19:17.375070Z",
     "start_time": "2024-12-20T23:19:17.308974Z"
    }
   },
   "id": "206b70fb3a03c146"
  },
  {
   "cell_type": "code",
   "execution_count": 48,
   "outputs": [
    {
     "data": {
      "text/plain": "shape: (24_724, 21)\n┌───────────┬───────────┬───────────┬───────────┬───┬───────────┬───────────┬───────────┬──────────┐\n│ impressio ┆ article_i ┆ impressio ┆ read_time ┆ … ┆ article_d ┆ number_ar ┆ impressio ┆ impressi │\n│ n_id      ┆ d         ┆ n_time    ┆ ---       ┆   ┆ elta_time ┆ ticles    ┆ n_hour    ┆ on_weekd │\n│ ---       ┆ ---       ┆ ---       ┆ f32       ┆   ┆ ---       ┆ ---       ┆ ---       ┆ ay       │\n│ u32       ┆ i32       ┆ datetime[ ┆           ┆   ┆ list[i64] ┆ i64       ┆ i8        ┆ ---      │\n│           ┆           ┆ μs]       ┆           ┆   ┆           ┆           ┆           ┆ i8       │\n╞═══════════╪═══════════╪═══════════╪═══════════╪═══╪═══════════╪═══════════╪═══════════╪══════════╡\n│ 48401     ┆ null      ┆ 2023-05-2 ┆ 21.0      ┆ … ┆ [56, 14,  ┆ null      ┆ 21        ┆ 6        │\n│           ┆           ┆ 1         ┆           ┆   ┆ … 55]     ┆           ┆           ┆          │\n│           ┆           ┆ 21:06:50  ┆           ┆   ┆           ┆           ┆           ┆          │\n│ 152513    ┆ 9778745   ┆ 2023-05-2 ┆ 30.0      ┆ … ┆ [49, 3, … ┆ null      ┆ 7         ┆ 2        │\n│           ┆           ┆ 4         ┆           ┆   ┆ 64]       ┆           ┆           ┆          │\n│           ┆           ┆ 07:31:26  ┆           ┆   ┆           ┆           ┆           ┆          │\n│ 155390    ┆ null      ┆ 2023-05-2 ┆ 45.0      ┆ … ┆ [72, 76,  ┆ null      ┆ 7         ┆ 2        │\n│           ┆           ┆ 4         ┆           ┆   ┆ … 76]     ┆           ┆           ┆          │\n│           ┆           ┆ 07:30:33  ┆           ┆   ┆           ┆           ┆           ┆          │\n│ 214679    ┆ null      ┆ 2023-05-2 ┆ 33.0      ┆ … ┆ [58, 13,  ┆ null      ┆ 5         ┆ 1        │\n│           ┆           ┆ 3         ┆           ┆   ┆ … 19]     ┆           ┆           ┆          │\n│           ┆           ┆ 05:25:40  ┆           ┆   ┆           ┆           ┆           ┆          │\n│ 214681    ┆ null      ┆ 2023-05-2 ┆ 21.0      ┆ … ┆ [95, 24,  ┆ null      ┆ 5         ┆ 1        │\n│           ┆           ┆ 3         ┆           ┆   ┆ … 85]     ┆           ┆           ┆          │\n│           ┆           ┆ 05:31:54  ┆           ┆   ┆           ┆           ┆           ┆          │\n│ …         ┆ …         ┆ …         ┆ …         ┆ … ┆ …         ┆ …         ┆ …         ┆ …        │\n│ 579983230 ┆ null      ┆ 2023-05-2 ┆ 35.0      ┆ … ┆ [67, 15,  ┆ null      ┆ 8         ┆ 0        │\n│           ┆           ┆ 2         ┆           ┆   ┆ … 5]      ┆           ┆           ┆          │\n│           ┆           ┆ 08:30:52  ┆           ┆   ┆           ┆           ┆           ┆          │\n│ 579983231 ┆ null      ┆ 2023-05-2 ┆ 89.0      ┆ … ┆ [80, 98,  ┆ null      ┆ 8         ┆ 0        │\n│           ┆           ┆ 2         ┆           ┆   ┆ … 73]     ┆           ┆           ┆          │\n│           ┆           ┆ 08:31:34  ┆           ┆   ┆           ┆           ┆           ┆          │\n│ 579984721 ┆ 9774541   ┆ 2023-05-2 ┆ 123.0     ┆ … ┆ [35, 22,  ┆ null      ┆ 8         ┆ 0        │\n│           ┆           ┆ 2         ┆           ┆   ┆ … 20]     ┆           ┆           ┆          │\n│           ┆           ┆ 08:51:33  ┆           ┆   ┆           ┆           ┆           ┆          │\n│ 579984723 ┆ 9775699   ┆ 2023-05-2 ┆ 73.0      ┆ … ┆ [96, 75,  ┆ null      ┆ 8         ┆ 0        │\n│           ┆           ┆ 2         ┆           ┆   ┆ … 62]     ┆           ┆           ┆          │\n│           ┆           ┆ 08:53:36  ┆           ┆   ┆           ┆           ┆           ┆          │\n│ 580097289 ┆ 9770541   ┆ 2023-05-1 ┆ 107.0     ┆ … ┆ [98, 95,  ┆ null      ┆ 10        ┆ 3        │\n│           ┆           ┆ 8         ┆           ┆   ┆ … 97]     ┆           ┆           ┆          │\n│           ┆           ┆ 10:56:49  ┆           ┆   ┆           ┆           ┆           ┆          │\n└───────────┴───────────┴───────────┴───────────┴───┴───────────┴───────────┴───────────┴──────────┘",
      "text/html": "<div><style>\n.dataframe > thead > tr,\n.dataframe > tbody > tr {\n  text-align: right;\n  white-space: pre-wrap;\n}\n</style>\n<small>shape: (24_724, 21)</small><table border=\"1\" class=\"dataframe\"><thead><tr><th>impression_id</th><th>article_id</th><th>impression_time</th><th>read_time</th><th>scroll_percentage</th><th>device_type</th><th>article_ids_inview</th><th>article_ids_clicked</th><th>user_id</th><th>is_sso_user</th><th>gender</th><th>postcode</th><th>age</th><th>is_subscriber</th><th>session_id</th><th>next_read_time</th><th>next_scroll_percentage</th><th>article_delta_time</th><th>number_articles</th><th>impression_hour</th><th>impression_weekday</th></tr><tr><td>u32</td><td>i32</td><td>datetime[μs]</td><td>f32</td><td>f32</td><td>i8</td><td>list[i64]</td><td>list[i64]</td><td>u32</td><td>i8</td><td>i8</td><td>i8</td><td>i8</td><td>i8</td><td>u32</td><td>f32</td><td>f64</td><td>list[i64]</td><td>i64</td><td>i8</td><td>i8</td></tr></thead><tbody><tr><td>48401</td><td>null</td><td>2023-05-21 21:06:50</td><td>21.0</td><td>null</td><td>2</td><td>[9657, 9360, … 8514]</td><td>[10]</td><td>27</td><td>0</td><td>-1</td><td>-1</td><td>-1</td><td>0</td><td>21</td><td>16.0</td><td>0.27</td><td>[56, 14, … 55]</td><td>null</td><td>21</td><td>6</td></tr><tr><td>152513</td><td>9778745</td><td>2023-05-24 07:31:26</td><td>30.0</td><td>100.0</td><td>1</td><td>[10004, 10014, … 9918]</td><td>[4]</td><td>741</td><td>0</td><td>-1</td><td>-1</td><td>-1</td><td>0</td><td>298</td><td>2.0</td><td>0.48</td><td>[49, 3, … 64]</td><td>null</td><td>7</td><td>2</td></tr><tr><td>155390</td><td>null</td><td>2023-05-24 07:30:33</td><td>45.0</td><td>null</td><td>1</td><td>[9987, 9945, … 9994]</td><td>[1]</td><td>8</td><td>0</td><td>-1</td><td>-1</td><td>-1</td><td>0</td><td>401</td><td>215.0</td><td>1.0</td><td>[72, 76, … 76]</td><td>null</td><td>7</td><td>2</td></tr><tr><td>214679</td><td>null</td><td>2023-05-23 05:25:40</td><td>33.0</td><td>null</td><td>2</td><td>[9861, 9837, … 9864]</td><td>[2]</td><td>574</td><td>0</td><td>-1</td><td>-1</td><td>-1</td><td>0</td><td>1357</td><td>40.0</td><td>0.47</td><td>[58, 13, … 19]</td><td>null</td><td>5</td><td>1</td></tr><tr><td>214681</td><td>null</td><td>2023-05-23 05:31:54</td><td>21.0</td><td>null</td><td>2</td><td>[9706, 9864, … 9853]</td><td>[5]</td><td>574</td><td>0</td><td>-1</td><td>-1</td><td>-1</td><td>0</td><td>1358</td><td>5.0</td><td>0.49</td><td>[95, 24, … 85]</td><td>null</td><td>5</td><td>1</td></tr><tr><td>&hellip;</td><td>&hellip;</td><td>&hellip;</td><td>&hellip;</td><td>&hellip;</td><td>&hellip;</td><td>&hellip;</td><td>&hellip;</td><td>&hellip;</td><td>&hellip;</td><td>&hellip;</td><td>&hellip;</td><td>&hellip;</td><td>&hellip;</td><td>&hellip;</td><td>&hellip;</td><td>&hellip;</td><td>&hellip;</td><td>&hellip;</td><td>&hellip;</td><td>&hellip;</td></tr><tr><td>579983230</td><td>null</td><td>2023-05-22 08:30:52</td><td>35.0</td><td>null</td><td>1</td><td>[9736, 9751, … 9746]</td><td>[0]</td><td>69</td><td>0</td><td>-1</td><td>-1</td><td>-1</td><td>0</td><td>170832</td><td>7.0</td><td>0.28</td><td>[67, 15, … 5]</td><td>null</td><td>8</td><td>0</td></tr><tr><td>579983231</td><td>null</td><td>2023-05-22 08:31:34</td><td>89.0</td><td>null</td><td>1</td><td>[9715, 4894, … 9681]</td><td>[19]</td><td>69</td><td>0</td><td>-1</td><td>-1</td><td>-1</td><td>0</td><td>170832</td><td>0.0</td><td>0.0</td><td>[80, 98, … 73]</td><td>null</td><td>8</td><td>0</td></tr><tr><td>579984721</td><td>9774541</td><td>2023-05-22 08:51:33</td><td>123.0</td><td>100.0</td><td>2</td><td>[9750, 9757, … 9713]</td><td>[0]</td><td>101</td><td>0</td><td>-1</td><td>-1</td><td>-1</td><td>0</td><td>107303</td><td>73.0</td><td>1.0</td><td>[35, 22, … 20]</td><td>null</td><td>8</td><td>0</td></tr><tr><td>579984723</td><td>9775699</td><td>2023-05-22 08:53:36</td><td>73.0</td><td>100.0</td><td>2</td><td>[9467, 8368, … 9379]</td><td>[1]</td><td>101</td><td>0</td><td>-1</td><td>-1</td><td>-1</td><td>0</td><td>107303</td><td>101.0</td><td>1.0</td><td>[96, 75, … 62]</td><td>null</td><td>8</td><td>0</td></tr><tr><td>580097289</td><td>9770541</td><td>2023-05-18 10:56:49</td><td>107.0</td><td>100.0</td><td>1</td><td>[4613, 9221, … 5679]</td><td>[4]</td><td>290</td><td>0</td><td>-1</td><td>-1</td><td>-1</td><td>0</td><td>73638</td><td>73.0</td><td>0.07</td><td>[98, 95, … 97]</td><td>null</td><td>10</td><td>3</td></tr></tbody></table></div>"
     },
     "execution_count": 48,
     "metadata": {},
     "output_type": "execute_result"
    }
   ],
   "source": [
    "behaviors_train = behaviors_train.with_columns(\n",
    "    [\n",
    "        pl.col(\"gender\").fill_null(-1),\n",
    "        pl.col(\"postcode\").fill_null(-1),\n",
    "        pl.col(\"age\").fill_null(-1)\n",
    "    ]\n",
    ")\n",
    "behaviors_train"
   ],
   "metadata": {
    "collapsed": false,
    "ExecuteTime": {
     "end_time": "2024-12-20T23:25:42.523058Z",
     "start_time": "2024-12-20T23:25:42.454851Z"
    }
   },
   "id": "5b5ff3272646455"
  },
  {
   "cell_type": "code",
   "execution_count": 49,
   "outputs": [
    {
     "name": "stdout",
     "output_type": "stream",
     "text": [
      "Converting format\n",
      "Loading embeddings...\n"
     ]
    }
   ],
   "source": [
    "ds_train = EBDataset(behaviors_train, history_train, article, article_image_embeddings, categories)\n",
    "dl_train = torch.utils.data.DataLoader(ds_train, batch_size=64, collate_fn=pad_train, shuffle=True)"
   ],
   "metadata": {
    "collapsed": false,
    "ExecuteTime": {
     "end_time": "2024-12-20T23:25:53.172904Z",
     "start_time": "2024-12-20T23:25:49.786010Z"
    }
   },
   "id": "367eb88dd60c3495"
  },
  {
   "cell_type": "code",
   "execution_count": 50,
   "outputs": [],
   "source": [
    "model = EBRank()\n",
    "device = 'cpu'\n",
    "model = model.to(device)"
   ],
   "metadata": {
    "collapsed": false,
    "ExecuteTime": {
     "end_time": "2024-12-20T23:25:53.906762Z",
     "start_time": "2024-12-20T23:25:53.839889Z"
    }
   },
   "id": "735c971422992ad1"
  },
  {
   "cell_type": "code",
   "execution_count": 52,
   "outputs": [
    {
     "data": {
      "text/plain": "  0%|          | 0/387 [00:00<?, ?it/s]",
      "application/vnd.jupyter.widget-view+json": {
       "version_major": 2,
       "version_minor": 0,
       "model_id": "2dd234231a2a49f2aa73bf40dd897f7f"
      }
     },
     "metadata": {},
     "output_type": "display_data"
    },
    {
     "ename": "IndexError",
     "evalue": "index out of range in self",
     "output_type": "error",
     "traceback": [
      "\u001B[0;31m---------------------------------------------------------------------------\u001B[0m",
      "\u001B[0;31mIndexError\u001B[0m                                Traceback (most recent call last)",
      "Cell \u001B[0;32mIn[52], line 19\u001B[0m\n\u001B[1;32m     17\u001B[0m behavior \u001B[38;5;241m=\u001B[39m to_device(behavior, device)\n\u001B[1;32m     18\u001B[0m history \u001B[38;5;241m=\u001B[39m to_device(history, device)\n\u001B[0;32m---> 19\u001B[0m pred \u001B[38;5;241m=\u001B[39m model(behavior, history)\n\u001B[1;32m     20\u001B[0m c_loss, hit_rate \u001B[38;5;241m=\u001B[39m balance_bce_loss(pred, in_view_len, clicked)\n\u001B[1;32m     21\u001B[0m c_loss\u001B[38;5;241m.\u001B[39mbackward()\n",
      "File \u001B[0;32m~/anaconda3/envs/RecSysAssignment/lib/python3.11/site-packages/torch/nn/modules/module.py:1511\u001B[0m, in \u001B[0;36mModule._wrapped_call_impl\u001B[0;34m(self, *args, **kwargs)\u001B[0m\n\u001B[1;32m   1509\u001B[0m     \u001B[38;5;28;01mreturn\u001B[39;00m \u001B[38;5;28mself\u001B[39m\u001B[38;5;241m.\u001B[39m_compiled_call_impl(\u001B[38;5;241m*\u001B[39margs, \u001B[38;5;241m*\u001B[39m\u001B[38;5;241m*\u001B[39mkwargs)  \u001B[38;5;66;03m# type: ignore[misc]\u001B[39;00m\n\u001B[1;32m   1510\u001B[0m \u001B[38;5;28;01melse\u001B[39;00m:\n\u001B[0;32m-> 1511\u001B[0m     \u001B[38;5;28;01mreturn\u001B[39;00m \u001B[38;5;28mself\u001B[39m\u001B[38;5;241m.\u001B[39m_call_impl(\u001B[38;5;241m*\u001B[39margs, \u001B[38;5;241m*\u001B[39m\u001B[38;5;241m*\u001B[39mkwargs)\n",
      "File \u001B[0;32m~/anaconda3/envs/RecSysAssignment/lib/python3.11/site-packages/torch/nn/modules/module.py:1520\u001B[0m, in \u001B[0;36mModule._call_impl\u001B[0;34m(self, *args, **kwargs)\u001B[0m\n\u001B[1;32m   1515\u001B[0m \u001B[38;5;66;03m# If we don't have any hooks, we want to skip the rest of the logic in\u001B[39;00m\n\u001B[1;32m   1516\u001B[0m \u001B[38;5;66;03m# this function, and just call forward.\u001B[39;00m\n\u001B[1;32m   1517\u001B[0m \u001B[38;5;28;01mif\u001B[39;00m \u001B[38;5;129;01mnot\u001B[39;00m (\u001B[38;5;28mself\u001B[39m\u001B[38;5;241m.\u001B[39m_backward_hooks \u001B[38;5;129;01mor\u001B[39;00m \u001B[38;5;28mself\u001B[39m\u001B[38;5;241m.\u001B[39m_backward_pre_hooks \u001B[38;5;129;01mor\u001B[39;00m \u001B[38;5;28mself\u001B[39m\u001B[38;5;241m.\u001B[39m_forward_hooks \u001B[38;5;129;01mor\u001B[39;00m \u001B[38;5;28mself\u001B[39m\u001B[38;5;241m.\u001B[39m_forward_pre_hooks\n\u001B[1;32m   1518\u001B[0m         \u001B[38;5;129;01mor\u001B[39;00m _global_backward_pre_hooks \u001B[38;5;129;01mor\u001B[39;00m _global_backward_hooks\n\u001B[1;32m   1519\u001B[0m         \u001B[38;5;129;01mor\u001B[39;00m _global_forward_hooks \u001B[38;5;129;01mor\u001B[39;00m _global_forward_pre_hooks):\n\u001B[0;32m-> 1520\u001B[0m     \u001B[38;5;28;01mreturn\u001B[39;00m forward_call(\u001B[38;5;241m*\u001B[39margs, \u001B[38;5;241m*\u001B[39m\u001B[38;5;241m*\u001B[39mkwargs)\n\u001B[1;32m   1522\u001B[0m \u001B[38;5;28;01mtry\u001B[39;00m:\n\u001B[1;32m   1523\u001B[0m     result \u001B[38;5;241m=\u001B[39m \u001B[38;5;28;01mNone\u001B[39;00m\n",
      "File \u001B[0;32m~/Documents/DeepLearning/RecSysAssignment/model/model.py:141\u001B[0m, in \u001B[0;36mforward\u001B[0;34m(self, behaviour, history)\u001B[0m\n\u001B[1;32m      0\u001B[0m <Error retrieving source code with stack_data see ipython/ipython#13598>\n",
      "File \u001B[0;32m~/Documents/DeepLearning/RecSysAssignment/model/model.py:115\u001B[0m, in \u001B[0;36membed_user_features\u001B[0;34m(self, behaviour)\u001B[0m\n\u001B[1;32m    102\u001B[0m features \u001B[38;5;241m=\u001B[39m {\n\u001B[1;32m    103\u001B[0m     \u001B[38;5;124m'\u001B[39m\u001B[38;5;124mdevice\u001B[39m\u001B[38;5;124m'\u001B[39m: device_type,\n\u001B[1;32m    104\u001B[0m     \u001B[38;5;124m'\u001B[39m\u001B[38;5;124msso\u001B[39m\u001B[38;5;124m'\u001B[39m: is_sso_user,\n\u001B[0;32m   (...)\u001B[0m\n\u001B[1;32m    108\u001B[0m     \u001B[38;5;124m'\u001B[39m\u001B[38;5;124msubscriber\u001B[39m\u001B[38;5;124m'\u001B[39m: is_subscriber\n\u001B[1;32m    109\u001B[0m }\n\u001B[1;32m    111\u001B[0m b \u001B[38;5;241m=\u001B[39m \u001B[38;5;28msum\u001B[39m(\n\u001B[1;32m    112\u001B[0m     F\u001B[38;5;241m.\u001B[39mdropout(\u001B[38;5;28mself\u001B[39m\u001B[38;5;241m.\u001B[39muser_embeddings[feature](value), \u001B[38;5;28mself\u001B[39m\u001B[38;5;241m.\u001B[39mdropout, \u001B[38;5;28mself\u001B[39m\u001B[38;5;241m.\u001B[39mtraining)\n\u001B[1;32m    113\u001B[0m     \u001B[38;5;28;01mfor\u001B[39;00m feature, value \u001B[38;5;129;01min\u001B[39;00m features\u001B[38;5;241m.\u001B[39mitems()\n\u001B[1;32m    114\u001B[0m )\n\u001B[0;32m--> 115\u001B[0m \u001B[38;5;28;01mreturn\u001B[39;00m b\n",
      "File \u001B[0;32m~/Documents/DeepLearning/RecSysAssignment/model/model.py:116\u001B[0m, in \u001B[0;36m<genexpr>\u001B[0;34m(.0)\u001B[0m\n\u001B[1;32m      0\u001B[0m <Error retrieving source code with stack_data see ipython/ipython#13598>\n",
      "File \u001B[0;32m~/anaconda3/envs/RecSysAssignment/lib/python3.11/site-packages/torch/nn/modules/module.py:1511\u001B[0m, in \u001B[0;36mModule._wrapped_call_impl\u001B[0;34m(self, *args, **kwargs)\u001B[0m\n\u001B[1;32m   1509\u001B[0m     \u001B[38;5;28;01mreturn\u001B[39;00m \u001B[38;5;28mself\u001B[39m\u001B[38;5;241m.\u001B[39m_compiled_call_impl(\u001B[38;5;241m*\u001B[39margs, \u001B[38;5;241m*\u001B[39m\u001B[38;5;241m*\u001B[39mkwargs)  \u001B[38;5;66;03m# type: ignore[misc]\u001B[39;00m\n\u001B[1;32m   1510\u001B[0m \u001B[38;5;28;01melse\u001B[39;00m:\n\u001B[0;32m-> 1511\u001B[0m     \u001B[38;5;28;01mreturn\u001B[39;00m \u001B[38;5;28mself\u001B[39m\u001B[38;5;241m.\u001B[39m_call_impl(\u001B[38;5;241m*\u001B[39margs, \u001B[38;5;241m*\u001B[39m\u001B[38;5;241m*\u001B[39mkwargs)\n",
      "File \u001B[0;32m~/anaconda3/envs/RecSysAssignment/lib/python3.11/site-packages/torch/nn/modules/module.py:1520\u001B[0m, in \u001B[0;36mModule._call_impl\u001B[0;34m(self, *args, **kwargs)\u001B[0m\n\u001B[1;32m   1515\u001B[0m \u001B[38;5;66;03m# If we don't have any hooks, we want to skip the rest of the logic in\u001B[39;00m\n\u001B[1;32m   1516\u001B[0m \u001B[38;5;66;03m# this function, and just call forward.\u001B[39;00m\n\u001B[1;32m   1517\u001B[0m \u001B[38;5;28;01mif\u001B[39;00m \u001B[38;5;129;01mnot\u001B[39;00m (\u001B[38;5;28mself\u001B[39m\u001B[38;5;241m.\u001B[39m_backward_hooks \u001B[38;5;129;01mor\u001B[39;00m \u001B[38;5;28mself\u001B[39m\u001B[38;5;241m.\u001B[39m_backward_pre_hooks \u001B[38;5;129;01mor\u001B[39;00m \u001B[38;5;28mself\u001B[39m\u001B[38;5;241m.\u001B[39m_forward_hooks \u001B[38;5;129;01mor\u001B[39;00m \u001B[38;5;28mself\u001B[39m\u001B[38;5;241m.\u001B[39m_forward_pre_hooks\n\u001B[1;32m   1518\u001B[0m         \u001B[38;5;129;01mor\u001B[39;00m _global_backward_pre_hooks \u001B[38;5;129;01mor\u001B[39;00m _global_backward_hooks\n\u001B[1;32m   1519\u001B[0m         \u001B[38;5;129;01mor\u001B[39;00m _global_forward_hooks \u001B[38;5;129;01mor\u001B[39;00m _global_forward_pre_hooks):\n\u001B[0;32m-> 1520\u001B[0m     \u001B[38;5;28;01mreturn\u001B[39;00m forward_call(\u001B[38;5;241m*\u001B[39margs, \u001B[38;5;241m*\u001B[39m\u001B[38;5;241m*\u001B[39mkwargs)\n\u001B[1;32m   1522\u001B[0m \u001B[38;5;28;01mtry\u001B[39;00m:\n\u001B[1;32m   1523\u001B[0m     result \u001B[38;5;241m=\u001B[39m \u001B[38;5;28;01mNone\u001B[39;00m\n",
      "File \u001B[0;32m~/anaconda3/envs/RecSysAssignment/lib/python3.11/site-packages/torch/nn/modules/sparse.py:163\u001B[0m, in \u001B[0;36mEmbedding.forward\u001B[0;34m(self, input)\u001B[0m\n\u001B[1;32m    162\u001B[0m \u001B[38;5;28;01mdef\u001B[39;00m \u001B[38;5;21mforward\u001B[39m(\u001B[38;5;28mself\u001B[39m, \u001B[38;5;28minput\u001B[39m: Tensor) \u001B[38;5;241m-\u001B[39m\u001B[38;5;241m>\u001B[39m Tensor:\n\u001B[0;32m--> 163\u001B[0m     \u001B[38;5;28;01mreturn\u001B[39;00m F\u001B[38;5;241m.\u001B[39membedding(\n\u001B[1;32m    164\u001B[0m         \u001B[38;5;28minput\u001B[39m, \u001B[38;5;28mself\u001B[39m\u001B[38;5;241m.\u001B[39mweight, \u001B[38;5;28mself\u001B[39m\u001B[38;5;241m.\u001B[39mpadding_idx, \u001B[38;5;28mself\u001B[39m\u001B[38;5;241m.\u001B[39mmax_norm,\n\u001B[1;32m    165\u001B[0m         \u001B[38;5;28mself\u001B[39m\u001B[38;5;241m.\u001B[39mnorm_type, \u001B[38;5;28mself\u001B[39m\u001B[38;5;241m.\u001B[39mscale_grad_by_freq, \u001B[38;5;28mself\u001B[39m\u001B[38;5;241m.\u001B[39msparse)\n",
      "File \u001B[0;32m~/anaconda3/envs/RecSysAssignment/lib/python3.11/site-packages/torch/nn/functional.py:2237\u001B[0m, in \u001B[0;36membedding\u001B[0;34m(input, weight, padding_idx, max_norm, norm_type, scale_grad_by_freq, sparse)\u001B[0m\n\u001B[1;32m   2231\u001B[0m     \u001B[38;5;66;03m# Note [embedding_renorm set_grad_enabled]\u001B[39;00m\n\u001B[1;32m   2232\u001B[0m     \u001B[38;5;66;03m# XXX: equivalent to\u001B[39;00m\n\u001B[1;32m   2233\u001B[0m     \u001B[38;5;66;03m# with torch.no_grad():\u001B[39;00m\n\u001B[1;32m   2234\u001B[0m     \u001B[38;5;66;03m#   torch.embedding_renorm_\u001B[39;00m\n\u001B[1;32m   2235\u001B[0m     \u001B[38;5;66;03m# remove once script supports set_grad_enabled\u001B[39;00m\n\u001B[1;32m   2236\u001B[0m     _no_grad_embedding_renorm_(weight, \u001B[38;5;28minput\u001B[39m, max_norm, norm_type)\n\u001B[0;32m-> 2237\u001B[0m \u001B[38;5;28;01mreturn\u001B[39;00m torch\u001B[38;5;241m.\u001B[39membedding(weight, \u001B[38;5;28minput\u001B[39m, padding_idx, scale_grad_by_freq, sparse)\n",
      "\u001B[0;31mIndexError\u001B[0m: index out of range in self"
     ]
    }
   ],
   "source": [
    "optimizer = torch.optim.Adam(model.parameters())\n",
    "epochs = 10  # Number of epochs to train from scratch\n",
    "acc_loss = 0\n",
    "acc_hit_rate = 0\n",
    "\n",
    "for epoch in range(1, epochs + 1):\n",
    "    if epoch == 2:\n",
    "        print('Setting LR to 1e-4')\n",
    "        set_lr(optimizer, 1e-4)\n",
    "    if epoch == 5:\n",
    "        print('Setting LR to 1e-5')\n",
    "        set_lr(optimizer, 1e-5)\n",
    "\n",
    "    for (_, (in_view_len, behavior), history), (clicked, scroll) in tqdm(dl_train):\n",
    "        optimizer.zero_grad()\n",
    "        torch.cuda.empty_cache()\n",
    "        behavior = to_device(behavior, device)\n",
    "        history = to_device(history, device)\n",
    "        pred = model(behavior, history)\n",
    "        c_loss, hit_rate = balance_bce_loss(pred, in_view_len, clicked)\n",
    "        c_loss.backward()\n",
    "        optimizer.step()\n",
    "        c_loss = c_loss.item()\n",
    "        acc_loss += c_loss\n",
    "        acc_hit_rate += hit_rate\n",
    "    \n",
    "    print(f'Epoch {epoch} - Loss: {acc_loss / len(dl_train)} - Hit Rate: {acc_hit_rate / len(dl_train)}')"
   ],
   "metadata": {
    "collapsed": false,
    "ExecuteTime": {
     "end_time": "2024-12-20T23:32:53.213365Z",
     "start_time": "2024-12-20T23:32:43.896495Z"
    }
   },
   "id": "29ca7aef99c38b41"
  },
  {
   "cell_type": "markdown",
   "source": [
    "**Validating model**"
   ],
   "metadata": {
    "collapsed": false
   },
   "id": "80776fc5e3920182"
  },
  {
   "cell_type": "code",
   "execution_count": null,
   "outputs": [],
   "source": [
    "print('Loading validation data...')\n",
    "\n",
    "behaviors_validation = pl.read_parquet('preprocess/behaviors_validation.parquet')\n",
    "history_validation = pl.read_parquet('preprocess/history_validation.parquet')\n",
    "\n",
    "ds_validation = EBDataset(behaviors_validation, history_validation, article, article_image_embeddings, categories)\n",
    "dl_validation = torch.utils.data.DataLoader(ds_validation, batch_size=64, collate_fn=pad_train, shuffle=True)"
   ],
   "metadata": {
    "collapsed": false,
    "ExecuteTime": {
     "start_time": "2024-12-20T22:48:54.211852Z"
    }
   },
   "id": "3aa9c50fca09f6a6"
  },
  {
   "cell_type": "code",
   "execution_count": null,
   "outputs": [],
   "source": [
    "optimizer = torch.optim.Adam(model.parameters())\n",
    "\n",
    "acc_loss = 0\n",
    "acc_hit_rate = 0\n",
    "\n",
    "for (_, (in_view_len, behavior), history), (clicked, scroll) in tqdm(dl_validation):\n",
    "    torch.cuda.empty_cache()\n",
    "    behavior = to_device(behavior, device)\n",
    "    history = to_device(history, device)\n",
    "    pred = model(behavior, history)\n",
    "    c_loss, hit_rate = balance_bce_loss(pred, in_view_len, clicked)\n",
    "    acc_loss += c_loss.item()\n",
    "    acc_hit_rate += hit_rate\n",
    "\n",
    "print(f'Validation Loss: {acc_loss / len(dl_validation)} - Hit Rate: {acc_hit_rate / len(dl_validation)}')"
   ],
   "metadata": {
    "collapsed": false,
    "ExecuteTime": {
     "start_time": "2024-12-20T22:48:54.213740Z"
    }
   },
   "id": "898dddbe1c59ac1f"
  },
  {
   "cell_type": "markdown",
   "source": [
    "**Model Inference**"
   ],
   "metadata": {
    "collapsed": false
   },
   "id": "4900bf3ccf3dec9a"
  },
  {
   "cell_type": "code",
   "execution_count": null,
   "outputs": [],
   "source": [
    "behaviors_test = pl.read_parquet('preprocess/behaviors_test.parquet')\n",
    "history_test = pl.read_parquet('preprocess/history_test.parquet')\n",
    "\n",
    "ds_test = EBDataset(behaviors_test, history_test, article, article_image_embeddings, categories, labels=False)\n",
    "dl_test = torch.utils.data.DataLoader(ds_test, batch_size=10, collate_fn=pad_inference, shuffle=False)"
   ],
   "metadata": {
    "collapsed": false,
    "ExecuteTime": {
     "start_time": "2024-12-20T22:48:54.216144Z"
    }
   },
   "id": "75c8f44915226624"
  },
  {
   "cell_type": "code",
   "execution_count": null,
   "outputs": [],
   "source": [
    "import pickle\n",
    "\n",
    "model.eval()\n",
    "\n",
    "res = []\n",
    "\n",
    "with torch.no_grad():\n",
    "    for idx, (in_view_len, behavior), history in tqdm(dl_test):\n",
    "        behavior = to_device(behavior, device)\n",
    "        history = to_device(history, device)\n",
    "        pred = model(behavior, history)\n",
    "        res.extend(interpret_inference(idx, pred.cpu().numpy(), in_view_len))\n",
    "\n",
    "res"
   ],
   "metadata": {
    "collapsed": false,
    "ExecuteTime": {
     "start_time": "2024-12-20T22:48:54.217648Z"
    }
   },
   "id": "9dcf7eca8198735f"
  }
 ],
 "metadata": {
  "kernelspec": {
   "display_name": "Python 3",
   "language": "python",
   "name": "python3"
  },
  "language_info": {
   "codemirror_mode": {
    "name": "ipython",
    "version": 2
   },
   "file_extension": ".py",
   "mimetype": "text/x-python",
   "name": "python",
   "nbconvert_exporter": "python",
   "pygments_lexer": "ipython2",
   "version": "2.7.6"
  }
 },
 "nbformat": 4,
 "nbformat_minor": 5
}
